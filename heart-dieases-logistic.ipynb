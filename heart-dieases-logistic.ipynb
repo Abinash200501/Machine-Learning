{
 "cells": [
  {
   "cell_type": "code",
   "execution_count": 1,
   "id": "e1cca15e",
   "metadata": {
    "_cell_guid": "b1076dfc-b9ad-4769-8c92-a6c4dae69d19",
    "_uuid": "8f2839f25d086af736a60e9eeb907d3b93b6e0e5",
    "execution": {
     "iopub.execute_input": "2025-07-27T04:06:53.344648Z",
     "iopub.status.busy": "2025-07-27T04:06:53.344323Z",
     "iopub.status.idle": "2025-07-27T04:06:54.065167Z",
     "shell.execute_reply": "2025-07-27T04:06:54.064200Z"
    },
    "papermill": {
     "duration": 0.730222,
     "end_time": "2025-07-27T04:06:54.066882",
     "exception": false,
     "start_time": "2025-07-27T04:06:53.336660",
     "status": "completed"
    },
    "tags": []
   },
   "outputs": [],
   "source": [
    "import numpy as np\n",
    "import matplotlib.pyplot as plt\n",
    "import pandas as pd"
   ]
  },
  {
   "cell_type": "code",
   "execution_count": 2,
   "id": "f48606ba",
   "metadata": {
    "execution": {
     "iopub.execute_input": "2025-07-27T04:06:54.078030Z",
     "iopub.status.busy": "2025-07-27T04:06:54.077638Z",
     "iopub.status.idle": "2025-07-27T04:06:54.886745Z",
     "shell.execute_reply": "2025-07-27T04:06:54.886037Z"
    },
    "papermill": {
     "duration": 0.816142,
     "end_time": "2025-07-27T04:06:54.888391",
     "exception": false,
     "start_time": "2025-07-27T04:06:54.072249",
     "status": "completed"
    },
    "tags": []
   },
   "outputs": [],
   "source": [
    "df = pd.read_csv(r'/kaggle/input/personal-key-indicators-of-heart-disease/2020/heart_2020_cleaned.csv')"
   ]
  },
  {
   "cell_type": "code",
   "execution_count": 3,
   "id": "a023a513",
   "metadata": {
    "execution": {
     "iopub.execute_input": "2025-07-27T04:06:54.899028Z",
     "iopub.status.busy": "2025-07-27T04:06:54.898756Z",
     "iopub.status.idle": "2025-07-27T04:06:55.110529Z",
     "shell.execute_reply": "2025-07-27T04:06:55.109405Z"
    },
    "papermill": {
     "duration": 0.218661,
     "end_time": "2025-07-27T04:06:55.112140",
     "exception": false,
     "start_time": "2025-07-27T04:06:54.893479",
     "status": "completed"
    },
    "tags": []
   },
   "outputs": [
    {
     "name": "stdout",
     "output_type": "stream",
     "text": [
      "<class 'pandas.core.frame.DataFrame'>\n",
      "RangeIndex: 319795 entries, 0 to 319794\n",
      "Data columns (total 18 columns):\n",
      " #   Column            Non-Null Count   Dtype  \n",
      "---  ------            --------------   -----  \n",
      " 0   HeartDisease      319795 non-null  object \n",
      " 1   BMI               319795 non-null  float64\n",
      " 2   Smoking           319795 non-null  object \n",
      " 3   AlcoholDrinking   319795 non-null  object \n",
      " 4   Stroke            319795 non-null  object \n",
      " 5   PhysicalHealth    319795 non-null  float64\n",
      " 6   MentalHealth      319795 non-null  float64\n",
      " 7   DiffWalking       319795 non-null  object \n",
      " 8   Sex               319795 non-null  object \n",
      " 9   AgeCategory       319795 non-null  object \n",
      " 10  Race              319795 non-null  object \n",
      " 11  Diabetic          319795 non-null  object \n",
      " 12  PhysicalActivity  319795 non-null  object \n",
      " 13  GenHealth         319795 non-null  object \n",
      " 14  SleepTime         319795 non-null  float64\n",
      " 15  Asthma            319795 non-null  object \n",
      " 16  KidneyDisease     319795 non-null  object \n",
      " 17  SkinCancer        319795 non-null  object \n",
      "dtypes: float64(4), object(14)\n",
      "memory usage: 43.9+ MB\n",
      "df columns :  18\n"
     ]
    }
   ],
   "source": [
    "df.head()\n",
    "df.info()\n",
    "print(\"df columns : \", len(df.columns))"
   ]
  },
  {
   "cell_type": "code",
   "execution_count": 4,
   "id": "a019778d",
   "metadata": {
    "execution": {
     "iopub.execute_input": "2025-07-27T04:06:55.123306Z",
     "iopub.status.busy": "2025-07-27T04:06:55.123033Z",
     "iopub.status.idle": "2025-07-27T04:06:55.162628Z",
     "shell.execute_reply": "2025-07-27T04:06:55.161664Z"
    },
    "papermill": {
     "duration": 0.046666,
     "end_time": "2025-07-27T04:06:55.164244",
     "exception": false,
     "start_time": "2025-07-27T04:06:55.117578",
     "status": "completed"
    },
    "tags": []
   },
   "outputs": [
    {
     "data": {
      "text/html": [
       "<div>\n",
       "<style scoped>\n",
       "    .dataframe tbody tr th:only-of-type {\n",
       "        vertical-align: middle;\n",
       "    }\n",
       "\n",
       "    .dataframe tbody tr th {\n",
       "        vertical-align: top;\n",
       "    }\n",
       "\n",
       "    .dataframe thead th {\n",
       "        text-align: right;\n",
       "    }\n",
       "</style>\n",
       "<table border=\"1\" class=\"dataframe\">\n",
       "  <thead>\n",
       "    <tr style=\"text-align: right;\">\n",
       "      <th></th>\n",
       "      <th>HeartDisease</th>\n",
       "      <th>BMI</th>\n",
       "      <th>Smoking</th>\n",
       "      <th>AlcoholDrinking</th>\n",
       "      <th>Stroke</th>\n",
       "      <th>PhysicalHealth</th>\n",
       "      <th>DiffWalking</th>\n",
       "      <th>Sex</th>\n",
       "      <th>AgeCategory</th>\n",
       "      <th>Diabetic</th>\n",
       "      <th>PhysicalActivity</th>\n",
       "      <th>GenHealth</th>\n",
       "    </tr>\n",
       "  </thead>\n",
       "  <tbody>\n",
       "    <tr>\n",
       "      <th>0</th>\n",
       "      <td>No</td>\n",
       "      <td>16.60</td>\n",
       "      <td>Yes</td>\n",
       "      <td>No</td>\n",
       "      <td>No</td>\n",
       "      <td>3.0</td>\n",
       "      <td>No</td>\n",
       "      <td>Female</td>\n",
       "      <td>55-59</td>\n",
       "      <td>Yes</td>\n",
       "      <td>Yes</td>\n",
       "      <td>Very good</td>\n",
       "    </tr>\n",
       "    <tr>\n",
       "      <th>1</th>\n",
       "      <td>No</td>\n",
       "      <td>20.34</td>\n",
       "      <td>No</td>\n",
       "      <td>No</td>\n",
       "      <td>Yes</td>\n",
       "      <td>0.0</td>\n",
       "      <td>No</td>\n",
       "      <td>Female</td>\n",
       "      <td>80 or older</td>\n",
       "      <td>No</td>\n",
       "      <td>Yes</td>\n",
       "      <td>Very good</td>\n",
       "    </tr>\n",
       "    <tr>\n",
       "      <th>2</th>\n",
       "      <td>No</td>\n",
       "      <td>26.58</td>\n",
       "      <td>Yes</td>\n",
       "      <td>No</td>\n",
       "      <td>No</td>\n",
       "      <td>20.0</td>\n",
       "      <td>No</td>\n",
       "      <td>Male</td>\n",
       "      <td>65-69</td>\n",
       "      <td>Yes</td>\n",
       "      <td>Yes</td>\n",
       "      <td>Fair</td>\n",
       "    </tr>\n",
       "    <tr>\n",
       "      <th>3</th>\n",
       "      <td>No</td>\n",
       "      <td>24.21</td>\n",
       "      <td>No</td>\n",
       "      <td>No</td>\n",
       "      <td>No</td>\n",
       "      <td>0.0</td>\n",
       "      <td>No</td>\n",
       "      <td>Female</td>\n",
       "      <td>75-79</td>\n",
       "      <td>No</td>\n",
       "      <td>No</td>\n",
       "      <td>Good</td>\n",
       "    </tr>\n",
       "    <tr>\n",
       "      <th>4</th>\n",
       "      <td>No</td>\n",
       "      <td>23.71</td>\n",
       "      <td>No</td>\n",
       "      <td>No</td>\n",
       "      <td>No</td>\n",
       "      <td>28.0</td>\n",
       "      <td>Yes</td>\n",
       "      <td>Female</td>\n",
       "      <td>40-44</td>\n",
       "      <td>No</td>\n",
       "      <td>Yes</td>\n",
       "      <td>Very good</td>\n",
       "    </tr>\n",
       "  </tbody>\n",
       "</table>\n",
       "</div>"
      ],
      "text/plain": [
       "  HeartDisease    BMI Smoking AlcoholDrinking Stroke  PhysicalHealth  \\\n",
       "0           No  16.60     Yes              No     No             3.0   \n",
       "1           No  20.34      No              No    Yes             0.0   \n",
       "2           No  26.58     Yes              No     No            20.0   \n",
       "3           No  24.21      No              No     No             0.0   \n",
       "4           No  23.71      No              No     No            28.0   \n",
       "\n",
       "  DiffWalking     Sex  AgeCategory Diabetic PhysicalActivity  GenHealth  \n",
       "0          No  Female        55-59      Yes              Yes  Very good  \n",
       "1          No  Female  80 or older       No              Yes  Very good  \n",
       "2          No    Male        65-69      Yes              Yes       Fair  \n",
       "3          No  Female        75-79       No               No       Good  \n",
       "4         Yes  Female        40-44       No              Yes  Very good  "
      ]
     },
     "execution_count": 4,
     "metadata": {},
     "output_type": "execute_result"
    }
   ],
   "source": [
    "# Remove unnecessary columns\n",
    "columns_remove = ['SleepTime', 'Asthma', 'KidneyDisease', 'MentalHealth',\n",
    "'SkinCancer', 'Race']\n",
    "\n",
    "df_cleaned = df.drop(columns = columns_remove)\n",
    "df_cleaned.head()"
   ]
  },
  {
   "cell_type": "code",
   "execution_count": 5,
   "id": "5008999d",
   "metadata": {
    "execution": {
     "iopub.execute_input": "2025-07-27T04:06:55.175546Z",
     "iopub.status.busy": "2025-07-27T04:06:55.175284Z",
     "iopub.status.idle": "2025-07-27T04:06:55.312303Z",
     "shell.execute_reply": "2025-07-27T04:06:55.311271Z"
    },
    "papermill": {
     "duration": 0.144301,
     "end_time": "2025-07-27T04:06:55.313893",
     "exception": false,
     "start_time": "2025-07-27T04:06:55.169592",
     "status": "completed"
    },
    "tags": []
   },
   "outputs": [
    {
     "name": "stdout",
     "output_type": "stream",
     "text": [
      "<class 'pandas.core.frame.DataFrame'>\n",
      "RangeIndex: 319795 entries, 0 to 319794\n",
      "Data columns (total 12 columns):\n",
      " #   Column            Non-Null Count   Dtype  \n",
      "---  ------            --------------   -----  \n",
      " 0   HeartDisease      319795 non-null  object \n",
      " 1   BMI               319795 non-null  float64\n",
      " 2   Smoking           319795 non-null  object \n",
      " 3   AlcoholDrinking   319795 non-null  object \n",
      " 4   Stroke            319795 non-null  object \n",
      " 5   PhysicalHealth    319795 non-null  float64\n",
      " 6   DiffWalking       319795 non-null  object \n",
      " 7   Sex               319795 non-null  object \n",
      " 8   AgeCategory       319795 non-null  object \n",
      " 9   Diabetic          319795 non-null  object \n",
      " 10  PhysicalActivity  319795 non-null  object \n",
      " 11  GenHealth         319795 non-null  object \n",
      "dtypes: float64(2), object(10)\n",
      "memory usage: 29.3+ MB\n"
     ]
    }
   ],
   "source": [
    "df_cleaned.info() "
   ]
  },
  {
   "cell_type": "code",
   "execution_count": 6,
   "id": "8efb43ce",
   "metadata": {
    "execution": {
     "iopub.execute_input": "2025-07-27T04:06:55.325374Z",
     "iopub.status.busy": "2025-07-27T04:06:55.325104Z",
     "iopub.status.idle": "2025-07-27T04:06:55.418966Z",
     "shell.execute_reply": "2025-07-27T04:06:55.417992Z"
    },
    "papermill": {
     "duration": 0.100984,
     "end_time": "2025-07-27T04:06:55.420314",
     "exception": false,
     "start_time": "2025-07-27T04:06:55.319330",
     "status": "completed"
    },
    "tags": []
   },
   "outputs": [
    {
     "name": "stdout",
     "output_type": "stream",
     "text": [
      "Smoking :  ['Yes' 'No']\n",
      "AlcoholDrinking   :  ['No' 'Yes']\n",
      "Stroke :  ['No' 'Yes']\n",
      "DiffWalking :  ['No' 'Yes']\n",
      "PhysicalActivity :  ['Yes' 'No']\n",
      "AgeCategory :  ['55-59' '80 or older' '65-69' '75-79' '40-44' '70-74' '60-64' '50-54'\n",
      " '45-49' '18-24' '35-39' '30-34' '25-29']\n",
      "Diabetic :  ['Yes' 'No' 'No, borderline diabetes' 'Yes (during pregnancy)']\n"
     ]
    }
   ],
   "source": [
    "print(\"Smoking : \", df_cleaned['Smoking'].unique())\n",
    "print(\"AlcoholDrinking   : \", df_cleaned['AlcoholDrinking'].unique())\n",
    "print(\"Stroke : \", df_cleaned['Stroke'].unique())\n",
    "print(\"DiffWalking : \", df_cleaned['DiffWalking'].unique())\n",
    "print(\"PhysicalActivity : \", df_cleaned['PhysicalActivity'].unique())\n",
    "print(\"AgeCategory : \", df_cleaned['AgeCategory'].unique())\n",
    "print(\"Diabetic : \", df_cleaned['Diabetic'].unique())\n",
    "\n",
    "# we can use a loop to print all these"
   ]
  },
  {
   "cell_type": "code",
   "execution_count": 7,
   "id": "c7f525a3",
   "metadata": {
    "execution": {
     "iopub.execute_input": "2025-07-27T04:06:55.431513Z",
     "iopub.status.busy": "2025-07-27T04:06:55.431241Z",
     "iopub.status.idle": "2025-07-27T04:06:55.567129Z",
     "shell.execute_reply": "2025-07-27T04:06:55.566159Z"
    },
    "papermill": {
     "duration": 0.142823,
     "end_time": "2025-07-27T04:06:55.568372",
     "exception": false,
     "start_time": "2025-07-27T04:06:55.425549",
     "status": "completed"
    },
    "tags": []
   },
   "outputs": [
    {
     "name": "stdout",
     "output_type": "stream",
     "text": [
      "Column Name :  HeartDisease  value :  ['No' 'Yes']\n",
      "Column Name :  Smoking  value :  ['Yes' 'No']\n",
      "Column Name :  AlcoholDrinking  value :  ['No' 'Yes']\n",
      "Column Name :  Stroke  value :  ['No' 'Yes']\n",
      "Column Name :  DiffWalking  value :  ['No' 'Yes']\n",
      "Column Name :  Sex  value :  ['Female' 'Male']\n",
      "Column Name :  AgeCategory  value :  ['55-59' '80 or older' '65-69' '75-79' '40-44' '70-74' '60-64' '50-54'\n",
      " '45-49' '18-24' '35-39' '30-34' '25-29']\n",
      "Column Name :  Diabetic  value :  ['Yes' 'No' 'No, borderline diabetes' 'Yes (during pregnancy)']\n",
      "Column Name :  PhysicalActivity  value :  ['Yes' 'No']\n",
      "Column Name :  GenHealth  value :  ['Very good' 'Fair' 'Good' 'Poor' 'Excellent']\n"
     ]
    }
   ],
   "source": [
    "for col in df_cleaned.columns:\n",
    "    if df_cleaned[col].dtype == 'object':\n",
    "        print(\"Column Name : \" ,col, \" value : \",df_cleaned[col].unique())"
   ]
  },
  {
   "cell_type": "code",
   "execution_count": 8,
   "id": "02bc3a51",
   "metadata": {
    "execution": {
     "iopub.execute_input": "2025-07-27T04:06:55.580603Z",
     "iopub.status.busy": "2025-07-27T04:06:55.580337Z",
     "iopub.status.idle": "2025-07-27T04:06:55.603911Z",
     "shell.execute_reply": "2025-07-27T04:06:55.603115Z"
    },
    "papermill": {
     "duration": 0.031313,
     "end_time": "2025-07-27T04:06:55.605312",
     "exception": false,
     "start_time": "2025-07-27T04:06:55.573999",
     "status": "completed"
    },
    "tags": []
   },
   "outputs": [
    {
     "name": "stdout",
     "output_type": "stream",
     "text": [
      "HeartDisease :  [0 1]\n"
     ]
    }
   ],
   "source": [
    "# Now convert the object type to integer to float type\n",
    "df_cleaned['HeartDisease'] = df_cleaned['HeartDisease'].map({'Yes': 1, 'No': 0})\n",
    "print(\"HeartDisease : \", df_cleaned['HeartDisease'].unique())"
   ]
  },
  {
   "cell_type": "code",
   "execution_count": 9,
   "id": "0893625d",
   "metadata": {
    "execution": {
     "iopub.execute_input": "2025-07-27T04:06:55.617935Z",
     "iopub.status.busy": "2025-07-27T04:06:55.617637Z",
     "iopub.status.idle": "2025-07-27T04:06:55.717204Z",
     "shell.execute_reply": "2025-07-27T04:06:55.716246Z"
    },
    "papermill": {
     "duration": 0.10746,
     "end_time": "2025-07-27T04:06:55.718847",
     "exception": false,
     "start_time": "2025-07-27T04:06:55.611387",
     "status": "completed"
    },
    "tags": []
   },
   "outputs": [],
   "source": [
    "# Repeat the same process which column is having object datatype.\n",
    "\n",
    "df_cleaned['Smoking'] = df_cleaned['Smoking'].map({'Yes': 1, 'No': 0})\n",
    "df_cleaned['AlcoholDrinking'] = df_cleaned['AlcoholDrinking'].map({'Yes': 1, 'No': 0})\n",
    "df_cleaned['Stroke'] = df_cleaned['Stroke'].map({'Yes': 1, 'No': 0})\n",
    "df_cleaned['Sex'] = df_cleaned['Sex'].map({'Male': 1, 'Female' : 0})\n",
    "\n",
    "# Now yes or no are converted into categorical values (remember you can use loop for \n",
    "# mapping the values)\n",
    "\n",
    "df_cleaned['DiffWalking'] = df_cleaned['DiffWalking'].map({'Yes': 1, 'No': 0})\n",
    "df_cleaned['PhysicalActivity'] = df_cleaned['PhysicalActivity'].map({'Yes': 1, 'No': 0})"
   ]
  },
  {
   "cell_type": "code",
   "execution_count": 10,
   "id": "19de32ac",
   "metadata": {
    "execution": {
     "iopub.execute_input": "2025-07-27T04:06:55.731590Z",
     "iopub.status.busy": "2025-07-27T04:06:55.731354Z",
     "iopub.status.idle": "2025-07-27T04:06:55.753425Z",
     "shell.execute_reply": "2025-07-27T04:06:55.752675Z"
    },
    "papermill": {
     "duration": 0.030013,
     "end_time": "2025-07-27T04:06:55.754729",
     "exception": false,
     "start_time": "2025-07-27T04:06:55.724716",
     "status": "completed"
    },
    "tags": []
   },
   "outputs": [
    {
     "name": "stdout",
     "output_type": "stream",
     "text": [
      "Diabetic after mapping:  [1 0 2 3]\n"
     ]
    }
   ],
   "source": [
    "diabetic_mapping = {\n",
    "    'Yes': 1, \n",
    "    'No': 0, \n",
    "    'No, borderline diabetes': 2, \n",
    "    'Yes (during pregnancy)': 3\n",
    "}\n",
    "df_cleaned['Diabetic'] = df_cleaned['Diabetic'].map(diabetic_mapping)\n",
    "# Check the unique values after mapping\n",
    "print(\"Diabetic after mapping: \", df_cleaned['Diabetic'].unique())"
   ]
  },
  {
   "cell_type": "code",
   "execution_count": 11,
   "id": "96c7563d",
   "metadata": {
    "execution": {
     "iopub.execute_input": "2025-07-27T04:06:55.766486Z",
     "iopub.status.busy": "2025-07-27T04:06:55.766259Z",
     "iopub.status.idle": "2025-07-27T04:06:55.787945Z",
     "shell.execute_reply": "2025-07-27T04:06:55.787165Z"
    },
    "papermill": {
     "duration": 0.029034,
     "end_time": "2025-07-27T04:06:55.789302",
     "exception": false,
     "start_time": "2025-07-27T04:06:55.760268",
     "status": "completed"
    },
    "tags": []
   },
   "outputs": [
    {
     "name": "stdout",
     "output_type": "stream",
     "text": [
      "GenHealth after mapping:  [2 4 3 0 1]\n"
     ]
    }
   ],
   "source": [
    "genHealth_mapping = {\n",
    "    'Excellent': 1, \n",
    "    'Very good': 2, \n",
    "    'Poor': 0, \n",
    "    'Fair': 4,\n",
    "    'Good': 3\n",
    "}\n",
    "df_cleaned['GenHealth'] = df_cleaned['GenHealth'].map(genHealth_mapping)\n",
    "# Check the unique values after mapping\n",
    "print(\"GenHealth after mapping: \", df_cleaned['GenHealth'].unique())"
   ]
  },
  {
   "cell_type": "code",
   "execution_count": 12,
   "id": "e9f395c3",
   "metadata": {
    "execution": {
     "iopub.execute_input": "2025-07-27T04:06:55.801361Z",
     "iopub.status.busy": "2025-07-27T04:06:55.801133Z",
     "iopub.status.idle": "2025-07-27T04:06:55.826200Z",
     "shell.execute_reply": "2025-07-27T04:06:55.825422Z"
    },
    "papermill": {
     "duration": 0.032304,
     "end_time": "2025-07-27T04:06:55.827386",
     "exception": false,
     "start_time": "2025-07-27T04:06:55.795082",
     "status": "completed"
    },
    "tags": []
   },
   "outputs": [
    {
     "name": "stdout",
     "output_type": "stream",
     "text": [
      "AgeCategory after mapping:  [ 8 13 10 12  5 11  9  7  6  1  4  3  2]\n"
     ]
    }
   ],
   "source": [
    "age_mapping = {\n",
    "    '18-24': 1, '25-29': 2, '30-34': 3, '35-39': 4, '40-44': 5,\n",
    "    '45-49': 6, '50-54': 7, '55-59': 8, '60-64': 9, '65-69': 10,\n",
    "    '70-74': 11, '75-79': 12, '80 or older': 13\n",
    "}\n",
    "df_cleaned['AgeCategory'] = df_cleaned['AgeCategory'].map(age_mapping)\n",
    "# Check the unique values after mapping\n",
    "print(\"AgeCategory after mapping: \", df_cleaned['AgeCategory'].unique())"
   ]
  },
  {
   "cell_type": "code",
   "execution_count": 13,
   "id": "9e979b8a",
   "metadata": {
    "execution": {
     "iopub.execute_input": "2025-07-27T04:06:55.839032Z",
     "iopub.status.busy": "2025-07-27T04:06:55.838770Z",
     "iopub.status.idle": "2025-07-27T04:06:55.856091Z",
     "shell.execute_reply": "2025-07-27T04:06:55.855262Z"
    },
    "papermill": {
     "duration": 0.024312,
     "end_time": "2025-07-27T04:06:55.857285",
     "exception": false,
     "start_time": "2025-07-27T04:06:55.832973",
     "status": "completed"
    },
    "tags": []
   },
   "outputs": [
    {
     "name": "stdout",
     "output_type": "stream",
     "text": [
      "Smoking :  [1 0]\n",
      "AlcoholDrinking   :  [0 1]\n",
      "Stroke :  [0 1]\n",
      "DiffWalking :  [0 1]\n",
      "PhysicalActivity :  [1 0]\n",
      "AgeCategory :  [ 8 13 10 12  5 11  9  7  6  1  4  3  2]\n",
      "Diabetic :  [1 0 2 3]\n"
     ]
    }
   ],
   "source": [
    "# All are converted into (int) or (float) type\n",
    "\n",
    "print(\"Smoking : \", df_cleaned['Smoking'].unique())\n",
    "print(\"AlcoholDrinking   : \", df_cleaned['AlcoholDrinking'].unique())\n",
    "print(\"Stroke : \", df_cleaned['Stroke'].unique())\n",
    "print(\"DiffWalking : \", df_cleaned['DiffWalking'].unique())\n",
    "print(\"PhysicalActivity : \", df_cleaned['PhysicalActivity'].unique())\n",
    "print(\"AgeCategory : \", df_cleaned['AgeCategory'].unique())\n",
    "print(\"Diabetic : \", df_cleaned['Diabetic'].unique())"
   ]
  },
  {
   "cell_type": "code",
   "execution_count": 14,
   "id": "fcfe4169",
   "metadata": {
    "execution": {
     "iopub.execute_input": "2025-07-27T04:06:55.868988Z",
     "iopub.status.busy": "2025-07-27T04:06:55.868735Z",
     "iopub.status.idle": "2025-07-27T04:06:55.891951Z",
     "shell.execute_reply": "2025-07-27T04:06:55.890917Z"
    },
    "papermill": {
     "duration": 0.030418,
     "end_time": "2025-07-27T04:06:55.893232",
     "exception": false,
     "start_time": "2025-07-27T04:06:55.862814",
     "status": "completed"
    },
    "tags": []
   },
   "outputs": [
    {
     "name": "stdout",
     "output_type": "stream",
     "text": [
      "<class 'pandas.core.frame.DataFrame'>\n",
      "RangeIndex: 319795 entries, 0 to 319794\n",
      "Data columns (total 12 columns):\n",
      " #   Column            Non-Null Count   Dtype  \n",
      "---  ------            --------------   -----  \n",
      " 0   HeartDisease      319795 non-null  int64  \n",
      " 1   BMI               319795 non-null  float64\n",
      " 2   Smoking           319795 non-null  int64  \n",
      " 3   AlcoholDrinking   319795 non-null  int64  \n",
      " 4   Stroke            319795 non-null  int64  \n",
      " 5   PhysicalHealth    319795 non-null  float64\n",
      " 6   DiffWalking       319795 non-null  int64  \n",
      " 7   Sex               319795 non-null  int64  \n",
      " 8   AgeCategory       319795 non-null  int64  \n",
      " 9   Diabetic          319795 non-null  int64  \n",
      " 10  PhysicalActivity  319795 non-null  int64  \n",
      " 11  GenHealth         319795 non-null  int64  \n",
      "dtypes: float64(2), int64(10)\n",
      "memory usage: 29.3 MB\n",
      "HeartDisease :  [0 1]\n",
      "(319795, 12)\n"
     ]
    }
   ],
   "source": [
    "df_cleaned.info()\n",
    "print(\"HeartDisease : \", df_cleaned['HeartDisease'].unique())\n",
    "print(df_cleaned.shape)"
   ]
  },
  {
   "cell_type": "code",
   "execution_count": 15,
   "id": "66e337a0",
   "metadata": {
    "execution": {
     "iopub.execute_input": "2025-07-27T04:06:55.905258Z",
     "iopub.status.busy": "2025-07-27T04:06:55.905023Z",
     "iopub.status.idle": "2025-07-27T04:06:55.952258Z",
     "shell.execute_reply": "2025-07-27T04:06:55.951150Z"
    },
    "papermill": {
     "duration": 0.054709,
     "end_time": "2025-07-27T04:06:55.953624",
     "exception": false,
     "start_time": "2025-07-27T04:06:55.898915",
     "status": "completed"
    },
    "tags": []
   },
   "outputs": [
    {
     "name": "stdout",
     "output_type": "stream",
     "text": [
      "(319795, 11)\n",
      "y shape :  (319795,)\n",
      "HeartDisease :  [0 1]\n"
     ]
    }
   ],
   "source": [
    "x = np.array(df_cleaned.drop(columns = ['HeartDisease']))\n",
    "y = np.array(df_cleaned['HeartDisease'])\n",
    "\n",
    "print(x.shape)\n",
    "print(\"y shape : \", y.shape)\n",
    "\n",
    "print(\"HeartDisease : \", df_cleaned['HeartDisease'].unique())"
   ]
  },
  {
   "cell_type": "code",
   "execution_count": 16,
   "id": "feaa166b",
   "metadata": {
    "execution": {
     "iopub.execute_input": "2025-07-27T04:06:55.966150Z",
     "iopub.status.busy": "2025-07-27T04:06:55.965900Z",
     "iopub.status.idle": "2025-07-27T04:06:56.076939Z",
     "shell.execute_reply": "2025-07-27T04:06:56.075881Z"
    },
    "papermill": {
     "duration": 0.118802,
     "end_time": "2025-07-27T04:06:56.078476",
     "exception": false,
     "start_time": "2025-07-27T04:06:55.959674",
     "status": "completed"
    },
    "tags": []
   },
   "outputs": [
    {
     "name": "stdout",
     "output_type": "stream",
     "text": [
      "Size of data before removing outlier :  (319795, 12)\n",
      "Size of data after removing outlier :  (159205, 12)\n"
     ]
    }
   ],
   "source": [
    "#  Remove the outliers\n",
    "# formula - > IQR = q3 - q1 , lower = q1 - 1.5 * IQR, upper = q3 + 1.5 * IQR\n",
    "\n",
    "q1 = df_cleaned.quantile(0.25)\n",
    "q3 = df_cleaned.quantile(0.75)\n",
    "\n",
    "IQR = q3 - q1\n",
    "\n",
    "lower = q1 - 1.5 * IQR\n",
    "upper = q3 + 1.5 * IQR\n",
    "\n",
    "df_perfect = df_cleaned[~((df_cleaned < lower) | (df_cleaned > upper)).any(axis=1)]\n",
    "\n",
    "print(\"Size of data before removing outlier : \", df_cleaned.shape)\n",
    "print(\"Size of data after removing outlier : \", df_perfect.shape)"
   ]
  },
  {
   "cell_type": "code",
   "execution_count": 17,
   "id": "af28c494",
   "metadata": {
    "execution": {
     "iopub.execute_input": "2025-07-27T04:06:56.092136Z",
     "iopub.status.busy": "2025-07-27T04:06:56.091815Z",
     "iopub.status.idle": "2025-07-27T04:06:56.095311Z",
     "shell.execute_reply": "2025-07-27T04:06:56.094677Z"
    },
    "papermill": {
     "duration": 0.011042,
     "end_time": "2025-07-27T04:06:56.096568",
     "exception": false,
     "start_time": "2025-07-27T04:06:56.085526",
     "status": "completed"
    },
    "tags": []
   },
   "outputs": [],
   "source": [
    "# Normalization not needed as the values are already in 0s and 1s\n",
    "def sigmoid(z):\n",
    "    z = 1 / (1 + np.exp(-z))\n",
    "    return z"
   ]
  },
  {
   "cell_type": "code",
   "execution_count": 18,
   "id": "81652e7c",
   "metadata": {
    "execution": {
     "iopub.execute_input": "2025-07-27T04:06:56.108630Z",
     "iopub.status.busy": "2025-07-27T04:06:56.108379Z",
     "iopub.status.idle": "2025-07-27T04:06:56.112615Z",
     "shell.execute_reply": "2025-07-27T04:06:56.111786Z"
    },
    "papermill": {
     "duration": 0.011716,
     "end_time": "2025-07-27T04:06:56.113970",
     "exception": false,
     "start_time": "2025-07-27T04:06:56.102254",
     "status": "completed"
    },
    "tags": []
   },
   "outputs": [],
   "source": [
    "def compute_cost(w, x, y, b):\n",
    "    # formula = (-y(i)) log(f_x) - (1 - y(i)) log (1 - f_x)\n",
    "    m = len(w)\n",
    "    total_cost = 0\n",
    "    for i in range(m):\n",
    "        f_x = np.dot(w, x[i]) + b\n",
    "        f_wb = sigmoid(f_x)\n",
    "        total_cost += -(y[i] *  np.log(f_wb))- (1 - y[i]) * np.log(1 - f_wb)\n",
    "    total_cost /= m\n",
    "\n",
    "    return total_cost"
   ]
  },
  {
   "cell_type": "code",
   "execution_count": 19,
   "id": "3c826986",
   "metadata": {
    "execution": {
     "iopub.execute_input": "2025-07-27T04:06:56.125527Z",
     "iopub.status.busy": "2025-07-27T04:06:56.125264Z",
     "iopub.status.idle": "2025-07-27T04:06:56.129443Z",
     "shell.execute_reply": "2025-07-27T04:06:56.128634Z"
    },
    "papermill": {
     "duration": 0.011296,
     "end_time": "2025-07-27T04:06:56.130702",
     "exception": false,
     "start_time": "2025-07-27T04:06:56.119406",
     "status": "completed"
    },
    "tags": []
   },
   "outputs": [],
   "source": [
    "def regularization(lamda, w, x , y, b):\n",
    "    m = len(w)\n",
    "\n",
    "    reg = 0\n",
    "    cost_without_reg = compute_cost(w, x, y, b)\n",
    "    for i in range(m):\n",
    "        zwj = (w[i] ** 2)\n",
    "        reg += zwj\n",
    "    reg = lamda / (2 * m) *  reg\n",
    "\n",
    "    total_cost = cost_without_reg + reg\n",
    "    return total_cost"
   ]
  },
  {
   "cell_type": "code",
   "execution_count": 20,
   "id": "a6b71936",
   "metadata": {
    "execution": {
     "iopub.execute_input": "2025-07-27T04:06:56.142577Z",
     "iopub.status.busy": "2025-07-27T04:06:56.142371Z",
     "iopub.status.idle": "2025-07-27T04:06:56.146484Z",
     "shell.execute_reply": "2025-07-27T04:06:56.145898Z"
    },
    "papermill": {
     "duration": 0.011317,
     "end_time": "2025-07-27T04:06:56.147562",
     "exception": false,
     "start_time": "2025-07-27T04:06:56.136245",
     "status": "completed"
    },
    "tags": []
   },
   "outputs": [],
   "source": [
    "# formula = w - alpha (dw)\n",
    "# b = b - alpha (db)\n",
    "\n",
    "def compute_gradient(w, x ,y, b):\n",
    "    m, n= x.shape\n",
    "    dw_b = np.zeros((n))\n",
    "    dj_b = 0\n",
    "    for i in range(m):\n",
    "        fw_z = np.dot(w,x[i]) + b\n",
    "        fx_i = sigmoid(fw_z)\n",
    "        for j in range(n):\n",
    "            dw_b[j] += (fx_i - y[i]) * x[i,j]\n",
    "        dj_b += (fx_i - y[i])\n",
    "\n",
    "    dw_b = dw_b / m\n",
    "    dj_b = dj_b / m\n",
    "\n",
    "    return dw_b, dj_b"
   ]
  },
  {
   "cell_type": "code",
   "execution_count": 21,
   "id": "5323efae",
   "metadata": {
    "execution": {
     "iopub.execute_input": "2025-07-27T04:06:56.159248Z",
     "iopub.status.busy": "2025-07-27T04:06:56.159014Z",
     "iopub.status.idle": "2025-07-27T04:17:25.039382Z",
     "shell.execute_reply": "2025-07-27T04:17:25.038374Z"
    },
    "papermill": {
     "duration": 628.887738,
     "end_time": "2025-07-27T04:17:25.040795",
     "exception": false,
     "start_time": "2025-07-27T04:06:56.153057",
     "status": "completed"
    },
    "tags": []
   },
   "outputs": [
    {
     "name": "stdout",
     "output_type": "stream",
     "text": [
      "prev_cost nan\n"
     ]
    },
    {
     "name": "stderr",
     "output_type": "stream",
     "text": [
      "<ipython-input-18-e520bfaf9191>:8: RuntimeWarning: divide by zero encountered in log\n",
      "  total_cost += -(y[i] *  np.log(f_wb))- (1 - y[i]) * np.log(1 - f_wb)\n",
      "<ipython-input-18-e520bfaf9191>:8: RuntimeWarning: invalid value encountered in scalar multiply\n",
      "  total_cost += -(y[i] *  np.log(f_wb))- (1 - y[i]) * np.log(1 - f_wb)\n"
     ]
    },
    {
     "name": "stdout",
     "output_type": "stream",
     "text": [
      "curr :  46.27521236956503\n",
      "Iteration  0: Cost  46.2752\n",
      "curr :  1.7081706330633644\n",
      "Iteration 10: Cost   1.7082\n"
     ]
    },
    {
     "name": "stderr",
     "output_type": "stream",
     "text": [
      "<ipython-input-17-7d1691f43af7>:3: RuntimeWarning: overflow encountered in exp\n",
      "  z = 1 / (1 + np.exp(-z))\n"
     ]
    },
    {
     "name": "stdout",
     "output_type": "stream",
     "text": [
      "curr :  15.231163290573486\n",
      "Iteration 20: Cost  15.2312\n",
      "curr :  18.583357840766578\n",
      "Iteration 30: Cost  18.5834\n",
      "curr :  13.96544531473067\n",
      "Iteration 40: Cost  13.9654\n",
      "curr :  3.825386534226965\n",
      "Iteration 50: Cost   3.8254\n",
      "curr :  8.412442186230718\n",
      "Iteration 60: Cost   8.4124\n",
      "curr :  2.8579816339966775\n",
      "Iteration 70: Cost   2.8580\n",
      "curr :  11.567153027942336\n",
      "Iteration 80: Cost  11.5672\n",
      "curr :  16.063079178892377\n",
      "Iteration 90: Cost  16.0631\n",
      "curr :  8.255163331990454\n",
      "Iteration 100: Cost   8.2552\n",
      "curr :  9.734191040069684\n",
      "Iteration 110: Cost   9.7342\n",
      "curr :  3.1865689750261312\n",
      "Iteration 120: Cost   3.1866\n",
      "curr :  3.4859629249871444\n",
      "Iteration 130: Cost   3.4860\n",
      "curr :  5.366025498713168\n",
      "Iteration 140: Cost   5.3660\n",
      "curr :  13.23524866949426\n",
      "Iteration 150: Cost  13.2352\n",
      "curr :  10.624691337727796\n",
      "Iteration 160: Cost  10.6247\n",
      "curr :  23.67012222899538\n",
      "Iteration 170: Cost  23.6701\n",
      "curr :  2.311411049737053\n",
      "Iteration 180: Cost   2.3114\n",
      "curr :  25.073583034853822\n",
      "Iteration 190: Cost  25.0736\n",
      "w found by gradient descent: [-2.14565995  0.76646943  0.34590796  0.95444013 -0.03046546  1.04459583\n",
      "  0.90858366  0.70776783  1.1334389  -0.31667397  0.31639012]\n",
      "b found :  -0.23017973163304287\n"
     ]
    }
   ],
   "source": [
    "import math\n",
    "def gradient_descent(alpha , w, x, y, b, iterations):\n",
    "\n",
    "    J = []\n",
    "    prev_cost = regularization(0.4, w,x, y, b)\n",
    "    print(\"prev_cost\", prev_cost)\n",
    "    for i in range(iterations):\n",
    "        dw, db = compute_gradient(w,x,y,b)\n",
    "        w -= alpha * dw\n",
    "        b -= alpha * db\n",
    "        curr_cost = regularization(0.4, w,x, y, b)\n",
    "        if i % 10 == 0 :\n",
    "            print(\"curr : \", curr_cost)\n",
    "            J.append(curr_cost)\n",
    "            print(f\"Iteration {i:2}: Cost {(J[-1]):8.4f}\")\n",
    "        prev_cost=curr_cost\n",
    "    return w, b, J\n",
    "\n",
    "initial_w = [0.5, 0.5, 0.5, 0.5, 0.5, 0.5, 0.5, 0.5, 0.5, 0.5, 0.5]\n",
    "initial_b = 0.32\n",
    "alpha = 0.3\n",
    "\n",
    "w, b, cost = gradient_descent(alpha, initial_w, x, y, initial_b, 200)\n",
    "\n",
    "print(\"w found by gradient descent:\", w)\n",
    "print(\"b found : \", b)\n",
    "\n",
    "# the code block above takes a couple of minutes to run, \n",
    "# especially with a non-vectorized version. You can reduce the iterations to test your implementation and iterate faster. "
   ]
  },
  {
   "cell_type": "code",
   "execution_count": 22,
   "id": "71d957be",
   "metadata": {
    "execution": {
     "iopub.execute_input": "2025-07-27T04:17:25.055320Z",
     "iopub.status.busy": "2025-07-27T04:17:25.055095Z",
     "iopub.status.idle": "2025-07-27T04:17:25.268770Z",
     "shell.execute_reply": "2025-07-27T04:17:25.267971Z"
    },
    "papermill": {
     "duration": 0.22211,
     "end_time": "2025-07-27T04:17:25.270217",
     "exception": false,
     "start_time": "2025-07-27T04:17:25.048107",
     "status": "completed"
    },
    "tags": []
   },
   "outputs": [
    {
     "data": {
      "text/plain": [
       "<function matplotlib.pyplot.show(close=None, block=None)>"
      ]
     },
     "execution_count": 22,
     "metadata": {},
     "output_type": "execute_result"
    },
    {
     "data": {
      "image/png": "[encoded data removed]",
      "text/plain": [
       "<Figure size 640x480 with 1 Axes>"
      ]
     },
     "metadata": {},
     "output_type": "display_data"
    }
   ],
   "source": [
    "plt.plot(cost)\n",
    "plt.xlabel('Iterations')\n",
    "plt.ylabel('cost')\n",
    "plt.show"
   ]
  },
  {
   "cell_type": "code",
   "execution_count": 23,
   "id": "fbcb0463",
   "metadata": {
    "execution": {
     "iopub.execute_input": "2025-07-27T04:17:25.285413Z",
     "iopub.status.busy": "2025-07-27T04:17:25.285191Z",
     "iopub.status.idle": "2025-07-27T04:17:25.299100Z",
     "shell.execute_reply": "2025-07-27T04:17:25.298353Z"
    },
    "papermill": {
     "duration": 0.022683,
     "end_time": "2025-07-27T04:17:25.300319",
     "exception": false,
     "start_time": "2025-07-27T04:17:25.277636",
     "status": "completed"
    },
    "tags": []
   },
   "outputs": [
    {
     "name": "stdout",
     "output_type": "stream",
     "text": [
      "Index(['BMI', 'Smoking', 'AlcoholDrinking', 'Stroke', 'PhysicalHealth',\n",
      "       'DiffWalking', 'Sex', 'AgeCategory', 'Diabetic', 'PhysicalActivity',\n",
      "       'GenHealth'],\n",
      "      dtype='object')\n"
     ]
    }
   ],
   "source": [
    "feature_names = df_perfect.drop(columns=['HeartDisease']).columns\n",
    "print(feature_names)"
   ]
  },
  {
   "cell_type": "code",
   "execution_count": 24,
   "id": "673b4021",
   "metadata": {
    "execution": {
     "iopub.execute_input": "2025-07-27T04:17:25.315471Z",
     "iopub.status.busy": "2025-07-27T04:17:25.315253Z",
     "iopub.status.idle": "2025-07-27T04:17:25.320956Z",
     "shell.execute_reply": "2025-07-27T04:17:25.320186Z"
    },
    "papermill": {
     "duration": 0.014536,
     "end_time": "2025-07-27T04:17:25.322180",
     "exception": false,
     "start_time": "2025-07-27T04:17:25.307644",
     "status": "completed"
    },
    "tags": []
   },
   "outputs": [
    {
     "name": "stdout",
     "output_type": "stream",
     "text": [
      "Index(['HeartDisease', 'BMI', 'Smoking', 'AlcoholDrinking', 'Stroke',\n",
      "       'PhysicalHealth', 'DiffWalking', 'Sex', 'AgeCategory', 'Diabetic',\n",
      "       'PhysicalActivity', 'GenHealth'],\n",
      "      dtype='object')\n",
      "[0 1]\n"
     ]
    }
   ],
   "source": [
    "print(df_perfect.columns)\n",
    "print(df_cleaned['HeartDisease'].unique())"
   ]
  },
  {
   "cell_type": "code",
   "execution_count": 25,
   "id": "9e9a7433",
   "metadata": {
    "execution": {
     "iopub.execute_input": "2025-07-27T04:17:25.337301Z",
     "iopub.status.busy": "2025-07-27T04:17:25.337098Z",
     "iopub.status.idle": "2025-07-27T04:17:25.341157Z",
     "shell.execute_reply": "2025-07-27T04:17:25.340352Z"
    },
    "papermill": {
     "duration": 0.012804,
     "end_time": "2025-07-27T04:17:25.342359",
     "exception": false,
     "start_time": "2025-07-27T04:17:25.329555",
     "status": "completed"
    },
    "tags": []
   },
   "outputs": [],
   "source": [
    "def predict(w, x, b):\n",
    "    \n",
    "    # Calculate the linear combination of inputs and weights\n",
    "    m, n = x.shape   \n",
    "    p = np.zeros(m)\n",
    "    for i in range(m):\n",
    "        z_wb = 0\n",
    "        for j in range(n): \n",
    "            z_wb_ij = x[i, j] * w[j]\n",
    "            z_wb += z_wb_ij\n",
    "        \n",
    "        z_wb += b\n",
    "        f_wb = sigmoid(z_wb)\n",
    "        p[i] = f_wb >= 0.5\n",
    "        \n",
    "    return p"
   ]
  },
  {
   "cell_type": "code",
   "execution_count": 26,
   "id": "6e1cc9a6",
   "metadata": {
    "execution": {
     "iopub.execute_input": "2025-07-27T04:17:25.357348Z",
     "iopub.status.busy": "2025-07-27T04:17:25.357125Z",
     "iopub.status.idle": "2025-07-27T04:17:27.094220Z",
     "shell.execute_reply": "2025-07-27T04:17:27.093111Z"
    },
    "papermill": {
     "duration": 1.74614,
     "end_time": "2025-07-27T04:17:27.095620",
     "exception": false,
     "start_time": "2025-07-27T04:17:25.349480",
     "status": "completed"
    },
    "tags": []
   },
   "outputs": [
    {
     "name": "stdout",
     "output_type": "stream",
     "text": [
      "w :  [-2.14565995  0.76646943  0.34590796  0.95444013 -0.03046546  1.04459583\n",
      "  0.90858366  0.70776783  1.1334389  -0.31667397  0.31639012]\n",
      "Output of predict: shape (319795,), value [0. 0. 0. ... 0. 0. 0.]\n",
      "Training Accuracy: 91.44%\n"
     ]
    }
   ],
   "source": [
    "def compute_accuracy(w, x, y, b):\n",
    "    y_pred = predict(w, x, b)\n",
    "    print(f'Output of predict: shape {y_pred.shape}, value {y_pred}')\n",
    "\n",
    "    accuracy = np.mean(y_pred == y)  # Proportion of correct predictions\n",
    "    return accuracy * 100  # Return percentage accuracy\n",
    "\n",
    "print(\"w : \", w)\n",
    "accuracy = compute_accuracy(w, x, y, b)\n",
    "print(f\"Training Accuracy: {accuracy:.2f}%\")"
   ]
  },
  {
   "cell_type": "code",
   "execution_count": 27,
   "id": "c10a8f9d",
   "metadata": {
    "execution": {
     "iopub.execute_input": "2025-07-27T04:17:27.113153Z",
     "iopub.status.busy": "2025-07-27T04:17:27.112909Z",
     "iopub.status.idle": "2025-07-27T04:17:27.127924Z",
     "shell.execute_reply": "2025-07-27T04:17:27.127252Z"
    },
    "papermill": {
     "duration": 0.025428,
     "end_time": "2025-07-27T04:17:27.129219",
     "exception": false,
     "start_time": "2025-07-27T04:17:27.103791",
     "status": "completed"
    },
    "tags": []
   },
   "outputs": [
    {
     "data": {
      "text/html": [
       "<div>\n",
       "<style scoped>\n",
       "    .dataframe tbody tr th:only-of-type {\n",
       "        vertical-align: middle;\n",
       "    }\n",
       "\n",
       "    .dataframe tbody tr th {\n",
       "        vertical-align: top;\n",
       "    }\n",
       "\n",
       "    .dataframe thead th {\n",
       "        text-align: right;\n",
       "    }\n",
       "</style>\n",
       "<table border=\"1\" class=\"dataframe\">\n",
       "  <thead>\n",
       "    <tr style=\"text-align: right;\">\n",
       "      <th></th>\n",
       "      <th>HeartDisease</th>\n",
       "      <th>BMI</th>\n",
       "      <th>Smoking</th>\n",
       "      <th>AlcoholDrinking</th>\n",
       "      <th>Stroke</th>\n",
       "      <th>PhysicalHealth</th>\n",
       "      <th>DiffWalking</th>\n",
       "      <th>Sex</th>\n",
       "      <th>AgeCategory</th>\n",
       "      <th>Diabetic</th>\n",
       "      <th>PhysicalActivity</th>\n",
       "      <th>GenHealth</th>\n",
       "    </tr>\n",
       "  </thead>\n",
       "  <tbody>\n",
       "    <tr>\n",
       "      <th>5</th>\n",
       "      <td>1</td>\n",
       "      <td>28.87</td>\n",
       "      <td>1</td>\n",
       "      <td>0</td>\n",
       "      <td>0</td>\n",
       "      <td>6.0</td>\n",
       "      <td>1</td>\n",
       "      <td>0</td>\n",
       "      <td>12</td>\n",
       "      <td>0</td>\n",
       "      <td>0</td>\n",
       "      <td>4</td>\n",
       "    </tr>\n",
       "    <tr>\n",
       "      <th>10</th>\n",
       "      <td>1</td>\n",
       "      <td>34.30</td>\n",
       "      <td>1</td>\n",
       "      <td>0</td>\n",
       "      <td>0</td>\n",
       "      <td>30.0</td>\n",
       "      <td>1</td>\n",
       "      <td>1</td>\n",
       "      <td>9</td>\n",
       "      <td>1</td>\n",
       "      <td>0</td>\n",
       "      <td>0</td>\n",
       "    </tr>\n",
       "    <tr>\n",
       "      <th>35</th>\n",
       "      <td>1</td>\n",
       "      <td>32.98</td>\n",
       "      <td>1</td>\n",
       "      <td>0</td>\n",
       "      <td>1</td>\n",
       "      <td>10.0</td>\n",
       "      <td>1</td>\n",
       "      <td>1</td>\n",
       "      <td>12</td>\n",
       "      <td>1</td>\n",
       "      <td>1</td>\n",
       "      <td>0</td>\n",
       "    </tr>\n",
       "  </tbody>\n",
       "</table>\n",
       "</div>"
      ],
      "text/plain": [
       "    HeartDisease    BMI  Smoking  AlcoholDrinking  Stroke  PhysicalHealth  \\\n",
       "5              1  28.87        1                0       0             6.0   \n",
       "10             1  34.30        1                0       0            30.0   \n",
       "35             1  32.98        1                0       1            10.0   \n",
       "\n",
       "    DiffWalking  Sex  AgeCategory  Diabetic  PhysicalActivity  GenHealth  \n",
       "5             1    0           12         0                 0          4  \n",
       "10            1    1            9         1                 0          0  \n",
       "35            1    1           12         1                 1          0  "
      ]
     },
     "execution_count": 27,
     "metadata": {},
     "output_type": "execute_result"
    }
   ],
   "source": [
    "df_heart_disease = df_cleaned[df_cleaned['HeartDisease'] == 1]\n",
    "df_heart_disease.head(3)"
   ]
  },
  {
   "cell_type": "code",
   "execution_count": 28,
   "id": "8b644f2e",
   "metadata": {
    "execution": {
     "iopub.execute_input": "2025-07-27T04:17:27.145243Z",
     "iopub.status.busy": "2025-07-27T04:17:27.145024Z",
     "iopub.status.idle": "2025-07-27T04:17:27.149520Z",
     "shell.execute_reply": "2025-07-27T04:17:27.148612Z"
    },
    "papermill": {
     "duration": 0.013787,
     "end_time": "2025-07-27T04:17:27.150714",
     "exception": false,
     "start_time": "2025-07-27T04:17:27.136927",
     "status": "completed"
    },
    "tags": []
   },
   "outputs": [
    {
     "name": "stdout",
     "output_type": "stream",
     "text": [
      "8.768111109069904e-23\n",
      "Prediction Probability: 0.000000000\n",
      "0\n"
     ]
    }
   ],
   "source": [
    "new_data = np.array([28.87, 1, 0, 0, 6.0, 1, 0, 12, 0, 0, 4])\n",
    "prediction = np.dot(w, new_data) + b\n",
    "\n",
    "result = sigmoid(prediction)\n",
    "print(result)\n",
    "\n",
    "disease = 1 if result >=0.5 else 0\n",
    "print(f\"Prediction Probability: {result:.9f}\")\n",
    "print(disease)"
   ]
  },
  {
   "cell_type": "code",
   "execution_count": 29,
   "id": "178ca3b8",
   "metadata": {
    "execution": {
     "iopub.execute_input": "2025-07-27T04:17:27.166641Z",
     "iopub.status.busy": "2025-07-27T04:17:27.166425Z",
     "iopub.status.idle": "2025-07-27T04:17:28.709408Z",
     "shell.execute_reply": "2025-07-27T04:17:28.708348Z"
    },
    "papermill": {
     "duration": 1.552403,
     "end_time": "2025-07-27T04:17:28.710802",
     "exception": false,
     "start_time": "2025-07-27T04:17:27.158399",
     "status": "completed"
    },
    "tags": []
   },
   "outputs": [
    {
     "name": "stdout",
     "output_type": "stream",
     "text": [
      "Predicted class: [0]\n",
      "Training Accuracy with scikit-learn: 91.39%\n"
     ]
    }
   ],
   "source": [
    "from sklearn.preprocessing import StandardScaler\n",
    "from sklearn.linear_model import LogisticRegression\n",
    "from sklearn.metrics import accuracy_score\n",
    "\n",
    "x = np.array(df_cleaned.drop(columns = ['HeartDisease']))\n",
    "y = np.array(df_cleaned['HeartDisease'])\n",
    "\n",
    "# Scale the data\n",
    "scaler = StandardScaler()\n",
    "x_scaled = scaler.fit_transform(x)  # Scaling the feature matrix\n",
    "\n",
    "# Create a logistic regression model\n",
    "model = LogisticRegression(max_iter=100)  # Increase max_iter if needed\n",
    "\n",
    "# Fit the model to the scaled data\n",
    "model.fit(x_scaled, y)\n",
    "\n",
    "y_pred = model.predict(x_scaled) \n",
    "\n",
    "# Predict on new data (make sure to scale new data as well)\n",
    "new_data_scaled = scaler.transform([[20.34, 0, 0, 1, 0.0, 0, 0, 13, 0, 1, 2]])\n",
    "prediction = model.predict(new_data_scaled)\n",
    "\n",
    "print(\"Predicted class:\", prediction)\n",
    "\n",
    "accuracy = accuracy_score(y, y_pred)\n",
    "print(f\"Training Accuracy with scikit-learn: {accuracy * 100:.2f}%\")\n"
   ]
  },
  {
   "cell_type": "code",
   "execution_count": null,
   "id": "46ccb514",
   "metadata": {
    "papermill": {
     "duration": 0.007759,
     "end_time": "2025-07-27T04:17:28.726655",
     "exception": false,
     "start_time": "2025-07-27T04:17:28.718896",
     "status": "completed"
    },
    "tags": []
   },
   "outputs": [],
   "source": []
  },
  {
   "cell_type": "code",
   "execution_count": null,
   "id": "1ac9b742",
   "metadata": {
    "papermill": {
     "duration": 0.007524,
     "end_time": "2025-07-27T04:17:28.742100",
     "exception": false,
     "start_time": "2025-07-27T04:17:28.734576",
     "status": "completed"
    },
    "tags": []
   },
   "outputs": [],
   "source": []
  }
 ],
 "metadata": {
  "kaggle": {
   "accelerator": "gpu",
   "dataSources": [
    {
     "datasetId": 1936563,
     "sourceId": 6674905,
     "sourceType": "datasetVersion"
    }
   ],
   "dockerImageVersionId": 30839,
   "isGpuEnabled": true,
   "isInternetEnabled": true,
   "language": "python",
   "sourceType": "notebook"
  },
  "kernelspec": {
   "display_name": "Python 3",
   "language": "python",
   "name": "python3"
  },
  "language_info": {
   "codemirror_mode": {
    "name": "ipython",
    "version": 3
   },
   "file_extension": ".py",
   "mimetype": "text/x-python",
   "name": "python",
   "nbconvert_exporter": "python",
   "pygments_lexer": "ipython3",
   "version": "3.10.12"
  },
  "papermill": {
   "default_parameters": {},
   "duration": 638.510298,
   "end_time": "2025-07-27T04:17:29.269013",
   "environment_variables": {},
   "exception": null,
   "input_path": "__notebook__.ipynb",
   "output_path": "__notebook__.ipynb",
   "parameters": {},
   "start_time": "2025-07-27T04:06:50.758715",
   "version": "2.6.0"
  }
 },
 "nbformat": 4,
 "nbformat_minor": 5
}
