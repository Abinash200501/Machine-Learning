{
 "cells": [
  {
   "cell_type": "code",
   "execution_count": 1,
   "id": "962be2c4",
   "metadata": {
    "_cell_guid": "b1076dfc-b9ad-4769-8c92-a6c4dae69d19",
    "_uuid": "8f2839f25d086af736a60e9eeb907d3b93b6e0e5",
    "execution": {
     "iopub.execute_input": "2025-07-27T03:24:58.925739Z",
     "iopub.status.busy": "2025-07-27T03:24:58.925360Z",
     "iopub.status.idle": "2025-07-27T03:24:59.731886Z",
     "shell.execute_reply": "2025-07-27T03:24:59.731180Z"
    },
    "papermill": {
     "duration": 0.812917,
     "end_time": "2025-07-27T03:24:59.733487",
     "exception": false,
     "start_time": "2025-07-27T03:24:58.920570",
     "status": "completed"
    },
    "tags": []
   },
   "outputs": [],
   "source": [
    "import numpy as np\n",
    "import matplotlib.pyplot as plt\n",
    "import pandas as pd"
   ]
  },
  {
   "cell_type": "code",
   "execution_count": 2,
   "id": "acdafb41",
   "metadata": {
    "execution": {
     "iopub.execute_input": "2025-07-27T03:24:59.741025Z",
     "iopub.status.busy": "2025-07-27T03:24:59.740660Z",
     "iopub.status.idle": "2025-07-27T03:24:59.790301Z",
     "shell.execute_reply": "2025-07-27T03:24:59.789430Z"
    },
    "papermill": {
     "duration": 0.054694,
     "end_time": "2025-07-27T03:24:59.791689",
     "exception": false,
     "start_time": "2025-07-27T03:24:59.736995",
     "status": "completed"
    },
    "tags": []
   },
   "outputs": [
    {
     "data": {
      "text/plain": [
       "Index(['date', 'price', 'bedrooms', 'bathrooms', 'sqft_living', 'sqft_lot',\n",
       "       'floors', 'waterfront', 'view', 'condition', 'sqft_above',\n",
       "       'sqft_basement', 'yr_built', 'yr_renovated', 'street', 'city',\n",
       "       'statezip', 'country'],\n",
       "      dtype='object')"
      ]
     },
     "execution_count": 2,
     "metadata": {},
     "output_type": "execute_result"
    }
   ],
   "source": [
    "# import the dataset\n",
    "df = pd.read_csv(r'/kaggle/input/house-prediction-project1/data.csv')\n",
    "df.head()\n",
    "df.shape\n",
    "df.columns"
   ]
  },
  {
   "cell_type": "code",
   "execution_count": 3,
   "id": "311f81e1",
   "metadata": {
    "execution": {
     "iopub.execute_input": "2025-07-27T03:24:59.799003Z",
     "iopub.status.busy": "2025-07-27T03:24:59.798730Z",
     "iopub.status.idle": "2025-07-27T03:24:59.816723Z",
     "shell.execute_reply": "2025-07-27T03:24:59.815868Z"
    },
    "papermill": {
     "duration": 0.023133,
     "end_time": "2025-07-27T03:24:59.818109",
     "exception": false,
     "start_time": "2025-07-27T03:24:59.794976",
     "status": "completed"
    },
    "tags": []
   },
   "outputs": [],
   "source": [
    "# remove unnecessary columns\n",
    "columns_to_remove = ['date',\n",
    "     'waterfront', 'condition', 'sqft_basement', 'yr_built', 'yr_renovated', 'street', 'city',\n",
    "       'statezip', 'country']\n",
    "\n",
    "original_df = df.drop(columns = columns_to_remove)"
   ]
  },
  {
   "cell_type": "code",
   "execution_count": 4,
   "id": "f8069b99",
   "metadata": {
    "execution": {
     "iopub.execute_input": "2025-07-27T03:24:59.825225Z",
     "iopub.status.busy": "2025-07-27T03:24:59.824975Z",
     "iopub.status.idle": "2025-07-27T03:24:59.829599Z",
     "shell.execute_reply": "2025-07-27T03:24:59.828840Z"
    },
    "papermill": {
     "duration": 0.009292,
     "end_time": "2025-07-27T03:24:59.830766",
     "exception": false,
     "start_time": "2025-07-27T03:24:59.821474",
     "status": "completed"
    },
    "tags": []
   },
   "outputs": [
    {
     "data": {
      "text/plain": [
       "Index(['price', 'bedrooms', 'bathrooms', 'sqft_living', 'sqft_lot', 'floors',\n",
       "       'view', 'sqft_above'],\n",
       "      dtype='object')"
      ]
     },
     "execution_count": 4,
     "metadata": {},
     "output_type": "execute_result"
    }
   ],
   "source": [
    "original_df.columns"
   ]
  },
  {
   "cell_type": "code",
   "execution_count": 5,
   "id": "08b5b301",
   "metadata": {
    "execution": {
     "iopub.execute_input": "2025-07-27T03:24:59.837842Z",
     "iopub.status.busy": "2025-07-27T03:24:59.837574Z",
     "iopub.status.idle": "2025-07-27T03:24:59.842252Z",
     "shell.execute_reply": "2025-07-27T03:24:59.841479Z"
    },
    "papermill": {
     "duration": 0.009877,
     "end_time": "2025-07-27T03:24:59.843727",
     "exception": false,
     "start_time": "2025-07-27T03:24:59.833850",
     "status": "completed"
    },
    "tags": []
   },
   "outputs": [
    {
     "data": {
      "text/plain": [
       "(4600, 8)"
      ]
     },
     "execution_count": 5,
     "metadata": {},
     "output_type": "execute_result"
    }
   ],
   "source": [
    "original_df.shape"
   ]
  },
  {
   "cell_type": "code",
   "execution_count": 6,
   "id": "52fe9cc0",
   "metadata": {
    "execution": {
     "iopub.execute_input": "2025-07-27T03:24:59.850752Z",
     "iopub.status.busy": "2025-07-27T03:24:59.850523Z",
     "iopub.status.idle": "2025-07-27T03:24:59.867533Z",
     "shell.execute_reply": "2025-07-27T03:24:59.866700Z"
    },
    "papermill": {
     "duration": 0.022042,
     "end_time": "2025-07-27T03:24:59.868946",
     "exception": false,
     "start_time": "2025-07-27T03:24:59.846904",
     "status": "completed"
    },
    "tags": []
   },
   "outputs": [
    {
     "name": "stdout",
     "output_type": "stream",
     "text": [
      "Size before removing outliers: (4600, 8)\n",
      "Size after removing outliers: (3463, 8)\n"
     ]
    }
   ],
   "source": [
    "# remove using IQR method\n",
    "n = original_df.shape[0]\n",
    "Q1 = original_df.quantile(0.25)\n",
    "Q3 = original_df.quantile(0.75)\n",
    "\n",
    "\n",
    "# Calculate the IQR (Interquartile Range) for each column\n",
    "IQR = Q3 - Q1\n",
    "\n",
    "# Define the lower and upper bounds for outliers\n",
    "lower_bound = Q1 - 1.5 * IQR\n",
    "upper_bound = Q3 + 1.5 * IQR\n",
    "\n",
    "# Remove rows that contain outliers\n",
    "# Since you applied ~, it selects only the rows where none of the values are outliers (i.e., the rows \n",
    "# that don’t contain any values greater than the upper bound or less than the lower bound).\n",
    "df_cleaned = original_df[~((original_df < lower_bound) | (original_df > upper_bound)).any(axis=1)]\n",
    "\n",
    "print(\"Size before removing outliers:\", original_df.shape)\n",
    "print(\"Size after removing outliers:\", df_cleaned.shape)\n"
   ]
  },
  {
   "cell_type": "code",
   "execution_count": 7,
   "id": "8f6e3ebc",
   "metadata": {
    "execution": {
     "iopub.execute_input": "2025-07-27T03:24:59.877095Z",
     "iopub.status.busy": "2025-07-27T03:24:59.876811Z",
     "iopub.status.idle": "2025-07-27T03:24:59.883830Z",
     "shell.execute_reply": "2025-07-27T03:24:59.883087Z"
    },
    "papermill": {
     "duration": 0.012395,
     "end_time": "2025-07-27T03:24:59.885134",
     "exception": false,
     "start_time": "2025-07-27T03:24:59.872739",
     "status": "completed"
    },
    "tags": []
   },
   "outputs": [],
   "source": [
    "x = np.array(df_cleaned.drop(columns = ['price']))\n",
    "y = np.array(df_cleaned['price'])\n",
    "\n",
    "x_mean = np.mean(x)\n",
    "std_x = np.std(x)\n",
    "\n",
    "# Check if std_x is not equal to zero before dividing\n",
    "if std_x != 0:\n",
    "    x_norm = (x - x_mean) / std_x\n",
    "else:\n",
    "    print(\"Standard deviation is zero, skipping normalization.\")\n",
    "    x_norm = x \n",
    "\n",
    "y_mean = y.mean(axis=0)\n",
    "std_y = y.std(axis=0)\n",
    "y_norm = (y - y_mean) / std_y"
   ]
  },
  {
   "cell_type": "code",
   "execution_count": 8,
   "id": "275ecd3f",
   "metadata": {
    "execution": {
     "iopub.execute_input": "2025-07-27T03:24:59.892760Z",
     "iopub.status.busy": "2025-07-27T03:24:59.892483Z",
     "iopub.status.idle": "2025-07-27T03:24:59.897106Z",
     "shell.execute_reply": "2025-07-27T03:24:59.896456Z"
    },
    "papermill": {
     "duration": 0.009624,
     "end_time": "2025-07-27T03:24:59.898235",
     "exception": false,
     "start_time": "2025-07-27T03:24:59.888611",
     "status": "completed"
    },
    "tags": []
   },
   "outputs": [],
   "source": [
    "# formula = 1 / 2m ∑ (predicted - actual) ** 2\n",
    "\n",
    "def compute_cost(w, x, y, b, lamda):\n",
    "    m = len(x)\n",
    "    total_cost = 0\n",
    "    for i in range(m):\n",
    "        prediction = np.dot(w, x[i]) + b\n",
    "        total_cost += (prediction - y[i]) ** 2\n",
    "    total_cost = total_cost / (2 * m)\n",
    "    \n",
    "    # should be scalar output\n",
    "    reg = 0\n",
    "    n = len(w)\n",
    "    for j in range(n):\n",
    "        reg += w[j] ** 2\n",
    "\n",
    "    reg = lamda / (2 * m) * reg\n",
    "\n",
    "    return total_cost + reg"
   ]
  },
  {
   "cell_type": "code",
   "execution_count": 9,
   "id": "2a7babc0",
   "metadata": {
    "execution": {
     "iopub.execute_input": "2025-07-27T03:24:59.905368Z",
     "iopub.status.busy": "2025-07-27T03:24:59.905151Z",
     "iopub.status.idle": "2025-07-27T03:24:59.909111Z",
     "shell.execute_reply": "2025-07-27T03:24:59.908502Z"
    },
    "papermill": {
     "duration": 0.008679,
     "end_time": "2025-07-27T03:24:59.910203",
     "exception": false,
     "start_time": "2025-07-27T03:24:59.901524",
     "status": "completed"
    },
    "tags": []
   },
   "outputs": [],
   "source": [
    "# formula \n",
    "# w = w  - alpha (dj / dw) * x\n",
    "# b = b - alpha (db / db)\n",
    "\n",
    "def compute_gradient(w, x, y, b):\n",
    "\n",
    "    m = len(x)\n",
    "    dw = np.zeros_like(w)\n",
    "    db = 0\n",
    "\n",
    "    for i in range(m):\n",
    "        prediction = np.dot(w, x[i]) + b\n",
    "        dw += (prediction -  y[i]) * x[i]\n",
    "        db += (prediction -  y[i])\n",
    "\n",
    "        \n",
    "    dw /= m\n",
    "    db /= m\n",
    "\n",
    "    return dw, db"
   ]
  },
  {
   "cell_type": "code",
   "execution_count": 10,
   "id": "59c3b319",
   "metadata": {
    "execution": {
     "iopub.execute_input": "2025-07-27T03:24:59.917016Z",
     "iopub.status.busy": "2025-07-27T03:24:59.916816Z",
     "iopub.status.idle": "2025-07-27T03:25:17.632870Z",
     "shell.execute_reply": "2025-07-27T03:25:17.631681Z"
    },
    "papermill": {
     "duration": 17.721183,
     "end_time": "2025-07-27T03:25:17.634488",
     "exception": false,
     "start_time": "2025-07-27T03:24:59.913305",
     "status": "completed"
    },
    "tags": []
   },
   "outputs": [
    {
     "name": "stdout",
     "output_type": "stream",
     "text": [
      "prev 13.914838138263722\n",
      "Iteration    0: Cost 13.723396   \n",
      "Iteration  100: Cost 3.825947   \n",
      "Iteration  200: Cost 1.575727   \n",
      "Iteration  300: Cost 1.054057   \n",
      "Iteration  400: Cost 0.923634   \n",
      "Iteration  500: Cost 0.882257   \n",
      "Iteration  600: Cost 0.861597   \n",
      "Iteration  700: Cost 0.846172   \n",
      "Iteration  800: Cost 0.832441   \n",
      "Iteration  900: Cost 0.819566   \n",
      "w found by gradient descent: [-0.67613607  0.84762473 -1.49138074 -0.163176    0.28699554 -0.28716409\n",
      " -0.02558859]\n",
      "b found :  0.7257625609368489\n"
     ]
    }
   ],
   "source": [
    "# formula\n",
    "# w = w  - alpha (dj / dw) * x\n",
    "# b = b - alpha (dj / db)\n",
    "\n",
    "import math\n",
    "def gradient_descent(alpha, w, x, b, y,iterations):\n",
    "    \n",
    "    J = []\n",
    "    # cost function output should be scalar\n",
    "    prev_cost=compute_cost(w,x,y,b, 0.7)\n",
    "    print(\"prev\", prev_cost)\n",
    "    for i in range(iterations):\n",
    "\n",
    "        dw, db = compute_gradient(w, x, y, b)\n",
    "\n",
    "        w = w - alpha * dw\n",
    "        b = b - alpha * db\n",
    "        curr_cost=compute_cost(w,x,y,b, 0.7)\n",
    "        if i % 100 == 0 :\n",
    "            J.append(curr_cost)\n",
    "            print(f\"Iteration {i:4}: Cost {(J[-1]):8.6f}   \")\n",
    "        if(abs(prev_cost-curr_cost)<1e-7):\n",
    "            break\n",
    "        prev_cost=curr_cost\n",
    "    return w,b, J\n",
    "\n",
    "initial_w = np.random.randn(7)\n",
    "initial_b = 0.25\n",
    "alpha = 0.001\n",
    "w,b,cost = gradient_descent(alpha, initial_w, x_norm, initial_b, y_norm, \n",
    "                     1000)\n",
    "\n",
    "# we have 6 features, so 6 weights and bias\n",
    "print(\"w found by gradient descent:\", w)\n",
    "print(\"b found : \", b)\n"
   ]
  },
  {
   "cell_type": "code",
   "execution_count": 11,
   "id": "4f96af92",
   "metadata": {
    "execution": {
     "iopub.execute_input": "2025-07-27T03:25:17.644400Z",
     "iopub.status.busy": "2025-07-27T03:25:17.644101Z",
     "iopub.status.idle": "2025-07-27T03:25:17.847202Z",
     "shell.execute_reply": "2025-07-27T03:25:17.846397Z"
    },
    "papermill": {
     "duration": 0.20954,
     "end_time": "2025-07-27T03:25:17.848662",
     "exception": false,
     "start_time": "2025-07-27T03:25:17.639122",
     "status": "completed"
    },
    "tags": []
   },
   "outputs": [
    {
     "data": {
      "image/png": "[encoded data removed]",
      "text/plain": [
       "<Figure size 640x480 with 1 Axes>"
      ]
     },
     "metadata": {},
     "output_type": "display_data"
    }
   ],
   "source": [
    "plt.plot(cost)\n",
    "plt.xlabel('Iterations')\n",
    "plt.ylabel('cost')\n",
    "plt.show()"
   ]
  },
  {
   "cell_type": "code",
   "execution_count": 12,
   "id": "1e032bcd",
   "metadata": {
    "execution": {
     "iopub.execute_input": "2025-07-27T03:25:17.858745Z",
     "iopub.status.busy": "2025-07-27T03:25:17.858357Z",
     "iopub.status.idle": "2025-07-27T03:25:17.864042Z",
     "shell.execute_reply": "2025-07-27T03:25:17.863264Z"
    },
    "papermill": {
     "duration": 0.012164,
     "end_time": "2025-07-27T03:25:17.865290",
     "exception": false,
     "start_time": "2025-07-27T03:25:17.853126",
     "status": "completed"
    },
    "tags": []
   },
   "outputs": [
    {
     "name": "stdout",
     "output_type": "stream",
     "text": [
      "Index(['bedrooms', 'bathrooms', 'sqft_living', 'sqft_lot', 'floors', 'view',\n",
      "       'sqft_above'],\n",
      "      dtype='object')\n"
     ]
    }
   ],
   "source": [
    "feature_names = original_df.drop(columns=['price']).columns\n",
    "print(feature_names)"
   ]
  },
  {
   "cell_type": "code",
   "execution_count": 13,
   "id": "f2e12fab",
   "metadata": {
    "execution": {
     "iopub.execute_input": "2025-07-27T03:25:17.874379Z",
     "iopub.status.busy": "2025-07-27T03:25:17.874162Z",
     "iopub.status.idle": "2025-07-27T03:25:17.879600Z",
     "shell.execute_reply": "2025-07-27T03:25:17.878787Z"
    },
    "papermill": {
     "duration": 0.011303,
     "end_time": "2025-07-27T03:25:17.880908",
     "exception": false,
     "start_time": "2025-07-27T03:25:17.869605",
     "status": "completed"
    },
    "tags": []
   },
   "outputs": [
    {
     "name": "stdout",
     "output_type": "stream",
     "text": [
      "Normalized new data: [-0.54365013 -0.54435998  0.10088911  1.22954262 -0.54435998 -0.5447149\n",
      "  0.03700306]\n",
      "Predicted price: 326666.04294012045\n"
     ]
    }
   ],
   "source": [
    "# New data (before normalization)\n",
    "new_data = np.array([4, 2, 1820, 5000, 2, 1, 1640])\n",
    "\n",
    "# Normalize the new data using the same max values as the training data\n",
    "new_norm = (new_data - x_mean) / std_x  # Use max values from training data for consistency\n",
    "\n",
    "print(\"Normalized new data:\", new_norm)\n",
    "\n",
    "# Now make the prediction using the normalized new data\n",
    "predicted_price = np.dot(w, new_norm) + b\n",
    "print(f\"Predicted price: {predicted_price * y_mean + std_y}\")\n"
   ]
  },
  {
   "cell_type": "code",
   "execution_count": 14,
   "id": "1edeff51",
   "metadata": {
    "execution": {
     "iopub.execute_input": "2025-07-27T03:25:17.890255Z",
     "iopub.status.busy": "2025-07-27T03:25:17.890009Z",
     "iopub.status.idle": "2025-07-27T03:25:17.894581Z",
     "shell.execute_reply": "2025-07-27T03:25:17.893832Z"
    },
    "papermill": {
     "duration": 0.010675,
     "end_time": "2025-07-27T03:25:17.895928",
     "exception": false,
     "start_time": "2025-07-27T03:25:17.885253",
     "status": "completed"
    },
    "tags": []
   },
   "outputs": [],
   "source": [
    "# Regularization method\n",
    "# formula  = lambda / 2m ∑ (wj **2)\n",
    "\n",
    "def compute_cost(w, x, y, b, lamda):\n",
    "    m = len(x)\n",
    "    # formula = 1 / 2m ∑ (predicted - actual) ** 2\n",
    "    total_cost = 0\n",
    "    for i in range(m):\n",
    "        prediction = np.dot(w, x[i]) + b\n",
    "        total_cost += (prediction - y[i]) ** 2\n",
    "    total_cost = total_cost / (2 * m)\n",
    "    \n",
    "    # should be scalar output\n",
    "    reg = 0\n",
    "    for j in range(m):\n",
    "        reg += w[j] ** 2\n",
    "\n",
    "    reg = lamda / (2 * m) * reg\n",
    "\n",
    "    return totalcost + reg"
   ]
  }
 ],
 "metadata": {
  "kaggle": {
   "accelerator": "gpu",
   "dataSources": [
    {
     "datasetId": 6572246,
     "sourceId": 10615535,
     "sourceType": "datasetVersion"
    }
   ],
   "dockerImageVersionId": 30840,
   "isGpuEnabled": true,
   "isInternetEnabled": true,
   "language": "python",
   "sourceType": "notebook"
  },
  "kernelspec": {
   "display_name": "Python 3",
   "language": "python",
   "name": "python3"
  },
  "language_info": {
   "codemirror_mode": {
    "name": "ipython",
    "version": 3
   },
   "file_extension": ".py",
   "mimetype": "text/x-python",
   "name": "python",
   "nbconvert_exporter": "python",
   "pygments_lexer": "ipython3",
   "version": "3.10.12"
  },
  "papermill": {
   "default_parameters": {},
   "duration": 22.285076,
   "end_time": "2025-07-27T03:25:18.418389",
   "environment_variables": {},
   "exception": null,
   "input_path": "__notebook__.ipynb",
   "output_path": "__notebook__.ipynb",
   "parameters": {},
   "start_time": "2025-07-27T03:24:56.133313",
   "version": "2.6.0"
  }
 },
 "nbformat": 4,
 "nbformat_minor": 5
}
