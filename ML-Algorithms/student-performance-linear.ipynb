{
 "cells": [
  {
   "cell_type": "code",
   "execution_count": 1,
   "id": "a9ed3a7e",
   "metadata": {
    "_cell_guid": "b1076dfc-b9ad-4769-8c92-a6c4dae69d19",
    "_uuid": "8f2839f25d086af736a60e9eeb907d3b93b6e0e5",
    "execution": {
     "iopub.execute_input": "2025-07-26T16:58:05.452125Z",
     "iopub.status.busy": "2025-07-26T16:58:05.451718Z",
     "iopub.status.idle": "2025-07-26T16:58:06.856765Z",
     "shell.execute_reply": "2025-07-26T16:58:06.855591Z"
    },
    "papermill": {
     "duration": 1.415715,
     "end_time": "2025-07-26T16:58:06.858757",
     "exception": false,
     "start_time": "2025-07-26T16:58:05.443042",
     "status": "completed"
    },
    "tags": []
   },
   "outputs": [
    {
     "data": {
      "text/plain": [
       "Index(['Hours Studied', 'Previous Scores', 'Extracurricular Activities',\n",
       "       'Sleep Hours', 'Sample Question Papers Practiced', 'Performance Index'],\n",
       "      dtype='object')"
      ]
     },
     "execution_count": 1,
     "metadata": {},
     "output_type": "execute_result"
    }
   ],
   "source": [
    "import numpy as np\n",
    "import matplotlib.pyplot as plt\n",
    "import pandas as pd\n",
    "import math\n",
    "\n",
    "\n",
    "df = pd.read_csv(r'/kaggle/input/student-performance1/Student_Performance.csv')\n",
    "df.columns"
   ]
  },
  {
   "cell_type": "code",
   "execution_count": 2,
   "id": "ef330de1",
   "metadata": {
    "execution": {
     "iopub.execute_input": "2025-07-26T16:58:06.870756Z",
     "iopub.status.busy": "2025-07-26T16:58:06.870271Z",
     "iopub.status.idle": "2025-07-26T16:58:06.895471Z",
     "shell.execute_reply": "2025-07-26T16:58:06.894220Z"
    },
    "papermill": {
     "duration": 0.033231,
     "end_time": "2025-07-26T16:58:06.897520",
     "exception": false,
     "start_time": "2025-07-26T16:58:06.864289",
     "status": "completed"
    },
    "tags": []
   },
   "outputs": [],
   "source": [
    "columns_remove = ['Extracurricular Activities', 'Sleep Hours']\n",
    "original_df = df.drop(columns = columns_remove)"
   ]
  },
  {
   "cell_type": "code",
   "execution_count": 3,
   "id": "d4981357",
   "metadata": {
    "execution": {
     "iopub.execute_input": "2025-07-26T16:58:06.908970Z",
     "iopub.status.busy": "2025-07-26T16:58:06.908538Z",
     "iopub.status.idle": "2025-07-26T16:58:06.937466Z",
     "shell.execute_reply": "2025-07-26T16:58:06.935862Z"
    },
    "papermill": {
     "duration": 0.036845,
     "end_time": "2025-07-26T16:58:06.939459",
     "exception": false,
     "start_time": "2025-07-26T16:58:06.902614",
     "status": "completed"
    },
    "tags": []
   },
   "outputs": [
    {
     "name": "stdout",
     "output_type": "stream",
     "text": [
      "<class 'pandas.core.frame.DataFrame'>\n",
      "RangeIndex: 10000 entries, 0 to 9999\n",
      "Data columns (total 6 columns):\n",
      " #   Column                            Non-Null Count  Dtype  \n",
      "---  ------                            --------------  -----  \n",
      " 0   Hours Studied                     10000 non-null  int64  \n",
      " 1   Previous Scores                   10000 non-null  int64  \n",
      " 2   Extracurricular Activities        10000 non-null  object \n",
      " 3   Sleep Hours                       10000 non-null  int64  \n",
      " 4   Sample Question Papers Practiced  10000 non-null  int64  \n",
      " 5   Performance Index                 10000 non-null  float64\n",
      "dtypes: float64(1), int64(4), object(1)\n",
      "memory usage: 468.9+ KB\n"
     ]
    }
   ],
   "source": [
    "df.isnull().sum()\n",
    "df.info()"
   ]
  },
  {
   "cell_type": "code",
   "execution_count": 4,
   "id": "e9cac4f7",
   "metadata": {
    "execution": {
     "iopub.execute_input": "2025-07-26T16:58:06.951777Z",
     "iopub.status.busy": "2025-07-26T16:58:06.951235Z",
     "iopub.status.idle": "2025-07-26T16:58:06.969389Z",
     "shell.execute_reply": "2025-07-26T16:58:06.967914Z"
    },
    "papermill": {
     "duration": 0.027155,
     "end_time": "2025-07-26T16:58:06.971751",
     "exception": false,
     "start_time": "2025-07-26T16:58:06.944596",
     "status": "completed"
    },
    "tags": []
   },
   "outputs": [
    {
     "name": "stdout",
     "output_type": "stream",
     "text": [
      "Size before removing outliers: (10000, 4)\n",
      "Size after removing outliers: (10000, 4)\n"
     ]
    }
   ],
   "source": [
    "# remove Outliers\n",
    "\n",
    "q1 = original_df.quantile(0.25)\n",
    "q3 = original_df.quantile(0.75)\n",
    "\n",
    "IQR = q3 - q1\n",
    "\n",
    "lower_bound = q1 - 1.5 * IQR\n",
    "upper_bound = q3 + 1.5 * IQR\n",
    "\n",
    "df_cleaned = original_df[~((original_df < lower_bound) | (original_df > upper_bound)).any(axis=1)]\n",
    "\n",
    "print(\"Size before removing outliers:\", original_df.shape)\n",
    "print(\"Size after removing outliers:\", df_cleaned.shape)\n"
   ]
  },
  {
   "cell_type": "code",
   "execution_count": 5,
   "id": "224d286c",
   "metadata": {
    "execution": {
     "iopub.execute_input": "2025-07-26T16:58:06.983722Z",
     "iopub.status.busy": "2025-07-26T16:58:06.983278Z",
     "iopub.status.idle": "2025-07-26T16:58:06.991701Z",
     "shell.execute_reply": "2025-07-26T16:58:06.990028Z"
    },
    "papermill": {
     "duration": 0.016639,
     "end_time": "2025-07-26T16:58:06.993688",
     "exception": false,
     "start_time": "2025-07-26T16:58:06.977049",
     "status": "completed"
    },
    "tags": []
   },
   "outputs": [
    {
     "name": "stdout",
     "output_type": "stream",
     "text": [
      "(10000, 4)\n",
      "(10000, 3)\n"
     ]
    }
   ],
   "source": [
    "# No outliers are present\n",
    "print(df_cleaned.shape)\n",
    "x = np.array(df_cleaned.drop(columns = ['Performance Index']))\n",
    "y = np.array(df_cleaned['Performance Index'])\n",
    "\n",
    "print(x.shape)"
   ]
  },
  {
   "cell_type": "code",
   "execution_count": 6,
   "id": "16b3a01e",
   "metadata": {
    "execution": {
     "iopub.execute_input": "2025-07-26T16:58:07.005427Z",
     "iopub.status.busy": "2025-07-26T16:58:07.004966Z",
     "iopub.status.idle": "2025-07-26T16:58:07.021229Z",
     "shell.execute_reply": "2025-07-26T16:58:07.019941Z"
    },
    "papermill": {
     "duration": 0.024455,
     "end_time": "2025-07-26T16:58:07.023307",
     "exception": false,
     "start_time": "2025-07-26T16:58:06.998852",
     "status": "completed"
    },
    "tags": []
   },
   "outputs": [],
   "source": [
    "x_mean = x.mean(axis = 0)\n",
    "x_std = x.std(axis = 0)\n",
    "x_norm = (x - x_mean) / x_std\n",
    "\n",
    "# y_mean = y.mean(axis = 0)\n",
    "# y_std = y.std(axis = 0)\n",
    "# y_norm = (y - y_mean) / y_std"
   ]
  },
  {
   "cell_type": "code",
   "execution_count": 7,
   "id": "b325097b",
   "metadata": {
    "execution": {
     "iopub.execute_input": "2025-07-26T16:58:07.035253Z",
     "iopub.status.busy": "2025-07-26T16:58:07.034842Z",
     "iopub.status.idle": "2025-07-26T16:58:07.041430Z",
     "shell.execute_reply": "2025-07-26T16:58:07.040095Z"
    },
    "papermill": {
     "duration": 0.014829,
     "end_time": "2025-07-26T16:58:07.043506",
     "exception": false,
     "start_time": "2025-07-26T16:58:07.028677",
     "status": "completed"
    },
    "tags": []
   },
   "outputs": [],
   "source": [
    "def compute_cost(w, x, y, b, lamda):\n",
    "    m = len(x)\n",
    "    \n",
    "    # formula = 1 / 2m ∑ (predicted - actual) ** 2\n",
    "    total_cost = 0\n",
    "    for i in range(m):\n",
    "        prediction = np.dot(w, x[i]) + b\n",
    "        total_cost += (prediction - y[i]) ** 2\n",
    "    total_cost = total_cost / (2 * m)\n",
    "    \n",
    "    # should be scalar output\n",
    "    reg = 0\n",
    "    n = len(w)\n",
    "    for j in range(n):\n",
    "        reg += w[j] ** 2\n",
    "\n",
    "    reg = lamda / (2 * m) * reg\n",
    "\n",
    "    return total_cost + reg"
   ]
  },
  {
   "cell_type": "code",
   "execution_count": 8,
   "id": "1874a4a0",
   "metadata": {
    "execution": {
     "iopub.execute_input": "2025-07-26T16:58:07.055497Z",
     "iopub.status.busy": "2025-07-26T16:58:07.055003Z",
     "iopub.status.idle": "2025-07-26T16:58:07.060755Z",
     "shell.execute_reply": "2025-07-26T16:58:07.059246Z"
    },
    "papermill": {
     "duration": 0.014051,
     "end_time": "2025-07-26T16:58:07.062812",
     "exception": false,
     "start_time": "2025-07-26T16:58:07.048761",
     "status": "completed"
    },
    "tags": []
   },
   "outputs": [],
   "source": [
    "def compute_cost1(w, x, y, b):\n",
    "    m = len(x)\n",
    "    # formula = 1 / 2m ∑ (predicted - actual) ** 2\n",
    "    total_cost = 0\n",
    "    for i in range(m):\n",
    "        prediction = np.dot(w, x[i]) + b\n",
    "        total_cost += (prediction - y[i]) ** 2\n",
    "    total_cost = total_cost / (2 * m)\n",
    "    return total_cost"
   ]
  },
  {
   "cell_type": "code",
   "execution_count": 9,
   "id": "6dbe7e62",
   "metadata": {
    "execution": {
     "iopub.execute_input": "2025-07-26T16:58:07.074843Z",
     "iopub.status.busy": "2025-07-26T16:58:07.074452Z",
     "iopub.status.idle": "2025-07-26T16:58:07.081571Z",
     "shell.execute_reply": "2025-07-26T16:58:07.080043Z"
    },
    "papermill": {
     "duration": 0.0156,
     "end_time": "2025-07-26T16:58:07.083765",
     "exception": false,
     "start_time": "2025-07-26T16:58:07.068165",
     "status": "completed"
    },
    "tags": []
   },
   "outputs": [],
   "source": [
    "def compute_gradient(w, x, y, b):\n",
    "\n",
    "    # formula = w  - alpha (dj / dw) * x\n",
    "    # b = b - alpha (db / db)\n",
    "    m = len(x)\n",
    "    dw = np.zeros_like(w)\n",
    "    db = 0\n",
    "\n",
    "    for i in range(m):\n",
    "        prediction = np.dot(w, x[i]) + b\n",
    "        dw += (prediction -  y[i]) * x[i]\n",
    "        db += (prediction -  y[i])\n",
    "\n",
    "        \n",
    "    dw /= m\n",
    "    db /= m\n",
    "\n",
    "    return dw, db"
   ]
  },
  {
   "cell_type": "code",
   "execution_count": 10,
   "id": "b4afbad2",
   "metadata": {
    "execution": {
     "iopub.execute_input": "2025-07-26T16:58:07.096477Z",
     "iopub.status.busy": "2025-07-26T16:58:07.096018Z",
     "iopub.status.idle": "2025-07-26T16:59:08.246555Z",
     "shell.execute_reply": "2025-07-26T16:59:08.245005Z"
    },
    "papermill": {
     "duration": 61.159742,
     "end_time": "2025-07-26T16:59:08.248972",
     "exception": false,
     "start_time": "2025-07-26T16:58:07.089230",
     "status": "completed"
    },
    "tags": []
   },
   "outputs": [
    {
     "name": "stdout",
     "output_type": "stream",
     "text": [
      "prev 1672.9997222321563\n",
      "Iteration    0: Cost 1639.783288\n",
      "Iteration  100: Cost 222.202877\n",
      "Iteration  200: Cost 31.947199\n",
      "Iteration  300: Cost 6.409071\n",
      "Iteration  400: Cost 2.980568\n",
      "Iteration  500: Cost 2.520219\n",
      "Iteration  600: Cost 2.458397\n",
      "Iteration  700: Cost 2.450094\n",
      "Iteration  800: Cost 2.448978\n",
      "Iteration  900: Cost 2.448828\n",
      "w found by gradient descent: [ 7.38854674 17.6683918   0.56298071]\n",
      "b found :  55.22187697474924\n"
     ]
    }
   ],
   "source": [
    "import math\n",
    "def gradient_descent(alpha, w, x, b, y,iterations):\n",
    "    # formula = w  - alpha (dj / dw) * x\n",
    "    # b = b - alpha (dj / db)\n",
    "\n",
    "    J = []\n",
    "    # cost function output should be scalar\n",
    "    prev_cost=compute_cost1(w,x,y,b)\n",
    "    print(\"prev\", prev_cost)\n",
    "    for i in range(iterations):\n",
    "\n",
    "        dw, db = compute_gradient(w, x, y, b)\n",
    "\n",
    "        w = w - alpha * dw\n",
    "        b = b - alpha * db\n",
    "        curr_cost=compute_cost1(w,x,y,b)\n",
    "        if i % 100 == 0 :\n",
    "            J.append(curr_cost)\n",
    "            print(f\"Iteration {i:4}: Cost {(J[-1]):8.6f}\")\n",
    "        if(abs(prev_cost-curr_cost)<1e-7):\n",
    "            break\n",
    "        prev_cost=curr_cost\n",
    "    return w,b, J\n",
    "\n",
    "initial_w = [0.3, 0.7, 0.4]\n",
    "initial_b = 0.40\n",
    "alpha = 0.01\n",
    "w,b,cost = gradient_descent(alpha, initial_w, x_norm, initial_b, y, \n",
    "                     2000)\n",
    "\n",
    "# we have 6 features, so 6 weights and bias\n",
    "print(\"w found by gradient descent:\", w)\n",
    "print(\"b found : \", b)\n"
   ]
  },
  {
   "cell_type": "code",
   "execution_count": 11,
   "id": "9e5fdc2e",
   "metadata": {
    "execution": {
     "iopub.execute_input": "2025-07-26T16:59:08.263174Z",
     "iopub.status.busy": "2025-07-26T16:59:08.262751Z",
     "iopub.status.idle": "2025-07-26T16:59:08.561675Z",
     "shell.execute_reply": "2025-07-26T16:59:08.559867Z"
    },
    "papermill": {
     "duration": 0.308866,
     "end_time": "2025-07-26T16:59:08.564007",
     "exception": false,
     "start_time": "2025-07-26T16:59:08.255141",
     "status": "completed"
    },
    "tags": []
   },
   "outputs": [
    {
     "data": {
      "image/png": "[encoded data removed]",
      "text/plain": [
       "<Figure size 640x480 with 1 Axes>"
      ]
     },
     "metadata": {},
     "output_type": "display_data"
    }
   ],
   "source": [
    "plt.plot(cost)\n",
    "plt.xlabel('Iterations')\n",
    "plt.ylabel('cost')\n",
    "plt.show()"
   ]
  },
  {
   "cell_type": "code",
   "execution_count": 12,
   "id": "a800b0c4",
   "metadata": {
    "execution": {
     "iopub.execute_input": "2025-07-26T16:59:08.578787Z",
     "iopub.status.busy": "2025-07-26T16:59:08.578290Z",
     "iopub.status.idle": "2025-07-26T16:59:08.586286Z",
     "shell.execute_reply": "2025-07-26T16:59:08.584903Z"
    },
    "papermill": {
     "duration": 0.01758,
     "end_time": "2025-07-26T16:59:08.588317",
     "exception": false,
     "start_time": "2025-07-26T16:59:08.570737",
     "status": "completed"
    },
    "tags": []
   },
   "outputs": [
    {
     "name": "stdout",
     "output_type": "stream",
     "text": [
      "Index(['Hours Studied', 'Previous Scores', 'Sample Question Papers Practiced'], dtype='object')\n"
     ]
    }
   ],
   "source": [
    "feature_names = original_df.drop(columns=['Performance Index']).columns\n",
    "print(feature_names)"
   ]
  },
  {
   "cell_type": "code",
   "execution_count": 13,
   "id": "1a6edfcd",
   "metadata": {
    "execution": {
     "iopub.execute_input": "2025-07-26T16:59:08.604116Z",
     "iopub.status.busy": "2025-07-26T16:59:08.603641Z",
     "iopub.status.idle": "2025-07-26T16:59:08.649597Z",
     "shell.execute_reply": "2025-07-26T16:59:08.648206Z"
    },
    "papermill": {
     "duration": 0.056028,
     "end_time": "2025-07-26T16:59:08.651636",
     "exception": false,
     "start_time": "2025-07-26T16:59:08.595608",
     "status": "completed"
    },
    "tags": []
   },
   "outputs": [
    {
     "data": {
      "text/html": [
       "<div>\n",
       "<style scoped>\n",
       "    .dataframe tbody tr th:only-of-type {\n",
       "        vertical-align: middle;\n",
       "    }\n",
       "\n",
       "    .dataframe tbody tr th {\n",
       "        vertical-align: top;\n",
       "    }\n",
       "\n",
       "    .dataframe thead th {\n",
       "        text-align: right;\n",
       "    }\n",
       "</style>\n",
       "<table border=\"1\" class=\"dataframe\">\n",
       "  <thead>\n",
       "    <tr style=\"text-align: right;\">\n",
       "      <th></th>\n",
       "      <th>Hours Studied</th>\n",
       "      <th>Previous Scores</th>\n",
       "      <th>Extracurricular Activities</th>\n",
       "      <th>Sleep Hours</th>\n",
       "      <th>Sample Question Papers Practiced</th>\n",
       "      <th>Performance Index</th>\n",
       "    </tr>\n",
       "  </thead>\n",
       "  <tbody>\n",
       "    <tr>\n",
       "      <th>0</th>\n",
       "      <td>7</td>\n",
       "      <td>99</td>\n",
       "      <td>Yes</td>\n",
       "      <td>9</td>\n",
       "      <td>1</td>\n",
       "      <td>91.0</td>\n",
       "    </tr>\n",
       "    <tr>\n",
       "      <th>1</th>\n",
       "      <td>4</td>\n",
       "      <td>82</td>\n",
       "      <td>No</td>\n",
       "      <td>4</td>\n",
       "      <td>2</td>\n",
       "      <td>65.0</td>\n",
       "    </tr>\n",
       "    <tr>\n",
       "      <th>2</th>\n",
       "      <td>8</td>\n",
       "      <td>51</td>\n",
       "      <td>Yes</td>\n",
       "      <td>7</td>\n",
       "      <td>2</td>\n",
       "      <td>45.0</td>\n",
       "    </tr>\n",
       "    <tr>\n",
       "      <th>3</th>\n",
       "      <td>5</td>\n",
       "      <td>52</td>\n",
       "      <td>Yes</td>\n",
       "      <td>5</td>\n",
       "      <td>2</td>\n",
       "      <td>36.0</td>\n",
       "    </tr>\n",
       "    <tr>\n",
       "      <th>4</th>\n",
       "      <td>7</td>\n",
       "      <td>75</td>\n",
       "      <td>No</td>\n",
       "      <td>8</td>\n",
       "      <td>5</td>\n",
       "      <td>66.0</td>\n",
       "    </tr>\n",
       "    <tr>\n",
       "      <th>5</th>\n",
       "      <td>3</td>\n",
       "      <td>78</td>\n",
       "      <td>No</td>\n",
       "      <td>9</td>\n",
       "      <td>6</td>\n",
       "      <td>61.0</td>\n",
       "    </tr>\n",
       "  </tbody>\n",
       "</table>\n",
       "</div>"
      ],
      "text/plain": [
       "   Hours Studied  Previous Scores Extracurricular Activities  Sleep Hours  \\\n",
       "0              7               99                        Yes            9   \n",
       "1              4               82                         No            4   \n",
       "2              8               51                        Yes            7   \n",
       "3              5               52                        Yes            5   \n",
       "4              7               75                         No            8   \n",
       "5              3               78                         No            9   \n",
       "\n",
       "   Sample Question Papers Practiced  Performance Index  \n",
       "0                                 1               91.0  \n",
       "1                                 2               65.0  \n",
       "2                                 2               45.0  \n",
       "3                                 2               36.0  \n",
       "4                                 5               66.0  \n",
       "5                                 6               61.0  "
      ]
     },
     "execution_count": 13,
     "metadata": {},
     "output_type": "execute_result"
    }
   ],
   "source": [
    "df.head(6)"
   ]
  },
  {
   "cell_type": "code",
   "execution_count": 14,
   "id": "878c5a29",
   "metadata": {
    "execution": {
     "iopub.execute_input": "2025-07-26T16:59:08.669394Z",
     "iopub.status.busy": "2025-07-26T16:59:08.668906Z",
     "iopub.status.idle": "2025-07-26T16:59:08.678196Z",
     "shell.execute_reply": "2025-07-26T16:59:08.676835Z"
    },
    "papermill": {
     "duration": 0.020374,
     "end_time": "2025-07-26T16:59:08.680264",
     "exception": false,
     "start_time": "2025-07-26T16:59:08.659890",
     "status": "completed"
    },
    "tags": []
   },
   "outputs": [
    {
     "name": "stdout",
     "output_type": "stream",
     "text": [
      "Normalized new data: [ 0.00274218 -1.00596317 -0.90098215]\n",
      "[ 7.38854674 17.6683918   0.56298071]\n",
      "Performance Index: 36.96115078098644\n"
     ]
    }
   ],
   "source": [
    "# New data (before normalization)\n",
    "new_data = np.array([5, 52, 2])\n",
    "\n",
    "# Normalize the new data using the same max values as the training data\n",
    "\n",
    "new_norm = (new_data - x_mean) / x_std  # Use max values from training data for consistency\n",
    "\n",
    "print(\"Normalized new data:\", new_norm)\n",
    "\n",
    "print(w)\n",
    "\n",
    "# Now make the prediction using the normalized new data\n",
    "predicted_price = np.dot(w, new_norm) + b\n",
    "print(f\"Performance Index: {predicted_price}\")\n"
   ]
  },
  {
   "cell_type": "code",
   "execution_count": 15,
   "id": "644ffd15",
   "metadata": {
    "execution": {
     "iopub.execute_input": "2025-07-26T16:59:08.696400Z",
     "iopub.status.busy": "2025-07-26T16:59:08.695911Z",
     "iopub.status.idle": "2025-07-26T16:59:10.882054Z",
     "shell.execute_reply": "2025-07-26T16:59:10.880821Z"
    },
    "papermill": {
     "duration": 2.197355,
     "end_time": "2025-07-26T16:59:10.884453",
     "exception": false,
     "start_time": "2025-07-26T16:59:08.687098",
     "status": "completed"
    },
    "tags": []
   },
   "outputs": [],
   "source": [
    "from sklearn.linear_model import LinearRegression"
   ]
  },
  {
   "cell_type": "code",
   "execution_count": 16,
   "id": "7107f50a",
   "metadata": {
    "execution": {
     "iopub.execute_input": "2025-07-26T16:59:10.899987Z",
     "iopub.status.busy": "2025-07-26T16:59:10.899317Z",
     "iopub.status.idle": "2025-07-26T16:59:10.904843Z",
     "shell.execute_reply": "2025-07-26T16:59:10.903589Z"
    },
    "papermill": {
     "duration": 0.015112,
     "end_time": "2025-07-26T16:59:10.906723",
     "exception": false,
     "start_time": "2025-07-26T16:59:10.891611",
     "status": "completed"
    },
    "tags": []
   },
   "outputs": [],
   "source": [
    "regression = LinearRegression()"
   ]
  },
  {
   "cell_type": "code",
   "execution_count": 17,
   "id": "41f28109",
   "metadata": {
    "execution": {
     "iopub.execute_input": "2025-07-26T16:59:10.922917Z",
     "iopub.status.busy": "2025-07-26T16:59:10.922489Z",
     "iopub.status.idle": "2025-07-26T16:59:11.001022Z",
     "shell.execute_reply": "2025-07-26T16:59:10.999518Z"
    },
    "papermill": {
     "duration": 0.088878,
     "end_time": "2025-07-26T16:59:11.003165",
     "exception": false,
     "start_time": "2025-07-26T16:59:10.914287",
     "status": "completed"
    },
    "tags": []
   },
   "outputs": [
    {
     "data": {
      "text/html": [
       "<style>#sk-container-id-1 {color: black;background-color: white;}#sk-container-id-1 pre{padding: 0;}#sk-container-id-1 div.sk-toggleable {background-color: white;}#sk-container-id-1 label.sk-toggleable__label {cursor: pointer;display: block;width: 100%;margin-bottom: 0;padding: 0.3em;box-sizing: border-box;text-align: center;}#sk-container-id-1 label.sk-toggleable__label-arrow:before {content: \"▸\";float: left;margin-right: 0.25em;color: #696969;}#sk-container-id-1 label.sk-toggleable__label-arrow:hover:before {color: black;}#sk-container-id-1 div.sk-estimator:hover label.sk-toggleable__label-arrow:before {color: black;}#sk-container-id-1 div.sk-toggleable__content {max-height: 0;max-width: 0;overflow: hidden;text-align: left;background-color: #f0f8ff;}#sk-container-id-1 div.sk-toggleable__content pre {margin: 0.2em;color: black;border-radius: 0.25em;background-color: #f0f8ff;}#sk-container-id-1 input.sk-toggleable__control:checked~div.sk-toggleable__content {max-height: 200px;max-width: 100%;overflow: auto;}#sk-container-id-1 input.sk-toggleable__control:checked~label.sk-toggleable__label-arrow:before {content: \"▾\";}#sk-container-id-1 div.sk-estimator input.sk-toggleable__control:checked~label.sk-toggleable__label {background-color: #d4ebff;}#sk-container-id-1 div.sk-label input.sk-toggleable__control:checked~label.sk-toggleable__label {background-color: #d4ebff;}#sk-container-id-1 input.sk-hidden--visually {border: 0;clip: rect(1px 1px 1px 1px);clip: rect(1px, 1px, 1px, 1px);height: 1px;margin: -1px;overflow: hidden;padding: 0;position: absolute;width: 1px;}#sk-container-id-1 div.sk-estimator {font-family: monospace;background-color: #f0f8ff;border: 1px dotted black;border-radius: 0.25em;box-sizing: border-box;margin-bottom: 0.5em;}#sk-container-id-1 div.sk-estimator:hover {background-color: #d4ebff;}#sk-container-id-1 div.sk-parallel-item::after {content: \"\";width: 100%;border-bottom: 1px solid gray;flex-grow: 1;}#sk-container-id-1 div.sk-label:hover label.sk-toggleable__label {background-color: #d4ebff;}#sk-container-id-1 div.sk-serial::before {content: \"\";position: absolute;border-left: 1px solid gray;box-sizing: border-box;top: 0;bottom: 0;left: 50%;z-index: 0;}#sk-container-id-1 div.sk-serial {display: flex;flex-direction: column;align-items: center;background-color: white;padding-right: 0.2em;padding-left: 0.2em;position: relative;}#sk-container-id-1 div.sk-item {position: relative;z-index: 1;}#sk-container-id-1 div.sk-parallel {display: flex;align-items: stretch;justify-content: center;background-color: white;position: relative;}#sk-container-id-1 div.sk-item::before, #sk-container-id-1 div.sk-parallel-item::before {content: \"\";position: absolute;border-left: 1px solid gray;box-sizing: border-box;top: 0;bottom: 0;left: 50%;z-index: -1;}#sk-container-id-1 div.sk-parallel-item {display: flex;flex-direction: column;z-index: 1;position: relative;background-color: white;}#sk-container-id-1 div.sk-parallel-item:first-child::after {align-self: flex-end;width: 50%;}#sk-container-id-1 div.sk-parallel-item:last-child::after {align-self: flex-start;width: 50%;}#sk-container-id-1 div.sk-parallel-item:only-child::after {width: 0;}#sk-container-id-1 div.sk-dashed-wrapped {border: 1px dashed gray;margin: 0 0.4em 0.5em 0.4em;box-sizing: border-box;padding-bottom: 0.4em;background-color: white;}#sk-container-id-1 div.sk-label label {font-family: monospace;font-weight: bold;display: inline-block;line-height: 1.2em;}#sk-container-id-1 div.sk-label-container {text-align: center;}#sk-container-id-1 div.sk-container {/* jupyter's `normalize.less` sets `[hidden] { display: none; }` but bootstrap.min.css set `[hidden] { display: none !important; }` so we also need the `!important` here to be able to override the default hidden behavior on the sphinx rendered scikit-learn.org. See: https://github.com/scikit-learn/scikit-learn/issues/21755 */display: inline-block !important;position: relative;}#sk-container-id-1 div.sk-text-repr-fallback {display: none;}</style><div id=\"sk-container-id-1\" class=\"sk-top-container\"><div class=\"sk-text-repr-fallback\"><pre>LinearRegression()</pre><b>In a Jupyter environment, please rerun this cell to show the HTML representation or trust the notebook. <br />On GitHub, the HTML representation is unable to render, please try loading this page with nbviewer.org.</b></div><div class=\"sk-container\" hidden><div class=\"sk-item\"><div class=\"sk-estimator sk-toggleable\"><input class=\"sk-toggleable__control sk-hidden--visually\" id=\"sk-estimator-id-1\" type=\"checkbox\" checked><label for=\"sk-estimator-id-1\" class=\"sk-toggleable__label sk-toggleable__label-arrow\">LinearRegression</label><div class=\"sk-toggleable__content\"><pre>LinearRegression()</pre></div></div></div></div></div>"
      ],
      "text/plain": [
       "LinearRegression()"
      ]
     },
     "execution_count": 17,
     "metadata": {},
     "output_type": "execute_result"
    }
   ],
   "source": [
    "regression.fit(x, y)"
   ]
  },
  {
   "cell_type": "code",
   "execution_count": 18,
   "id": "47696d67",
   "metadata": {
    "execution": {
     "iopub.execute_input": "2025-07-26T16:59:11.019587Z",
     "iopub.status.busy": "2025-07-26T16:59:11.019136Z",
     "iopub.status.idle": "2025-07-26T16:59:11.026608Z",
     "shell.execute_reply": "2025-07-26T16:59:11.025009Z"
    },
    "papermill": {
     "duration": 0.017733,
     "end_time": "2025-07-26T16:59:11.028489",
     "exception": false,
     "start_time": "2025-07-26T16:59:11.010756",
     "status": "completed"
    },
    "tags": []
   },
   "outputs": [
    {
     "data": {
      "text/plain": [
       "array([2.85381923, 1.01885968, 0.1963031 ])"
      ]
     },
     "execution_count": 18,
     "metadata": {},
     "output_type": "execute_result"
    }
   ],
   "source": [
    "regression.coef_"
   ]
  },
  {
   "cell_type": "code",
   "execution_count": 19,
   "id": "95e79657",
   "metadata": {
    "execution": {
     "iopub.execute_input": "2025-07-26T16:59:11.044573Z",
     "iopub.status.busy": "2025-07-26T16:59:11.044172Z",
     "iopub.status.idle": "2025-07-26T16:59:11.051499Z",
     "shell.execute_reply": "2025-07-26T16:59:11.050289Z"
    },
    "papermill": {
     "duration": 0.017434,
     "end_time": "2025-07-26T16:59:11.053294",
     "exception": false,
     "start_time": "2025-07-26T16:59:11.035860",
     "status": "completed"
    },
    "tags": []
   },
   "outputs": [
    {
     "data": {
      "text/plain": [
       "array([36.96323191])"
      ]
     },
     "execution_count": 19,
     "metadata": {},
     "output_type": "execute_result"
    }
   ],
   "source": [
    "regression.predict([[5, 52, 2]])"
   ]
  },
  {
   "cell_type": "code",
   "execution_count": 20,
   "id": "48ec2803",
   "metadata": {
    "execution": {
     "iopub.execute_input": "2025-07-26T16:59:11.069237Z",
     "iopub.status.busy": "2025-07-26T16:59:11.068852Z",
     "iopub.status.idle": "2025-07-26T16:59:11.090528Z",
     "shell.execute_reply": "2025-07-26T16:59:11.089239Z"
    },
    "papermill": {
     "duration": 0.03207,
     "end_time": "2025-07-26T16:59:11.092723",
     "exception": false,
     "start_time": "2025-07-26T16:59:11.060653",
     "status": "completed"
    },
    "tags": []
   },
   "outputs": [
    {
     "data": {
      "text/html": [
       "<style>#sk-container-id-2 {color: black;background-color: white;}#sk-container-id-2 pre{padding: 0;}#sk-container-id-2 div.sk-toggleable {background-color: white;}#sk-container-id-2 label.sk-toggleable__label {cursor: pointer;display: block;width: 100%;margin-bottom: 0;padding: 0.3em;box-sizing: border-box;text-align: center;}#sk-container-id-2 label.sk-toggleable__label-arrow:before {content: \"▸\";float: left;margin-right: 0.25em;color: #696969;}#sk-container-id-2 label.sk-toggleable__label-arrow:hover:before {color: black;}#sk-container-id-2 div.sk-estimator:hover label.sk-toggleable__label-arrow:before {color: black;}#sk-container-id-2 div.sk-toggleable__content {max-height: 0;max-width: 0;overflow: hidden;text-align: left;background-color: #f0f8ff;}#sk-container-id-2 div.sk-toggleable__content pre {margin: 0.2em;color: black;border-radius: 0.25em;background-color: #f0f8ff;}#sk-container-id-2 input.sk-toggleable__control:checked~div.sk-toggleable__content {max-height: 200px;max-width: 100%;overflow: auto;}#sk-container-id-2 input.sk-toggleable__control:checked~label.sk-toggleable__label-arrow:before {content: \"▾\";}#sk-container-id-2 div.sk-estimator input.sk-toggleable__control:checked~label.sk-toggleable__label {background-color: #d4ebff;}#sk-container-id-2 div.sk-label input.sk-toggleable__control:checked~label.sk-toggleable__label {background-color: #d4ebff;}#sk-container-id-2 input.sk-hidden--visually {border: 0;clip: rect(1px 1px 1px 1px);clip: rect(1px, 1px, 1px, 1px);height: 1px;margin: -1px;overflow: hidden;padding: 0;position: absolute;width: 1px;}#sk-container-id-2 div.sk-estimator {font-family: monospace;background-color: #f0f8ff;border: 1px dotted black;border-radius: 0.25em;box-sizing: border-box;margin-bottom: 0.5em;}#sk-container-id-2 div.sk-estimator:hover {background-color: #d4ebff;}#sk-container-id-2 div.sk-parallel-item::after {content: \"\";width: 100%;border-bottom: 1px solid gray;flex-grow: 1;}#sk-container-id-2 div.sk-label:hover label.sk-toggleable__label {background-color: #d4ebff;}#sk-container-id-2 div.sk-serial::before {content: \"\";position: absolute;border-left: 1px solid gray;box-sizing: border-box;top: 0;bottom: 0;left: 50%;z-index: 0;}#sk-container-id-2 div.sk-serial {display: flex;flex-direction: column;align-items: center;background-color: white;padding-right: 0.2em;padding-left: 0.2em;position: relative;}#sk-container-id-2 div.sk-item {position: relative;z-index: 1;}#sk-container-id-2 div.sk-parallel {display: flex;align-items: stretch;justify-content: center;background-color: white;position: relative;}#sk-container-id-2 div.sk-item::before, #sk-container-id-2 div.sk-parallel-item::before {content: \"\";position: absolute;border-left: 1px solid gray;box-sizing: border-box;top: 0;bottom: 0;left: 50%;z-index: -1;}#sk-container-id-2 div.sk-parallel-item {display: flex;flex-direction: column;z-index: 1;position: relative;background-color: white;}#sk-container-id-2 div.sk-parallel-item:first-child::after {align-self: flex-end;width: 50%;}#sk-container-id-2 div.sk-parallel-item:last-child::after {align-self: flex-start;width: 50%;}#sk-container-id-2 div.sk-parallel-item:only-child::after {width: 0;}#sk-container-id-2 div.sk-dashed-wrapped {border: 1px dashed gray;margin: 0 0.4em 0.5em 0.4em;box-sizing: border-box;padding-bottom: 0.4em;background-color: white;}#sk-container-id-2 div.sk-label label {font-family: monospace;font-weight: bold;display: inline-block;line-height: 1.2em;}#sk-container-id-2 div.sk-label-container {text-align: center;}#sk-container-id-2 div.sk-container {/* jupyter's `normalize.less` sets `[hidden] { display: none; }` but bootstrap.min.css set `[hidden] { display: none !important; }` so we also need the `!important` here to be able to override the default hidden behavior on the sphinx rendered scikit-learn.org. See: https://github.com/scikit-learn/scikit-learn/issues/21755 */display: inline-block !important;position: relative;}#sk-container-id-2 div.sk-text-repr-fallback {display: none;}</style><div id=\"sk-container-id-2\" class=\"sk-top-container\"><div class=\"sk-text-repr-fallback\"><pre>Ridge()</pre><b>In a Jupyter environment, please rerun this cell to show the HTML representation or trust the notebook. <br />On GitHub, the HTML representation is unable to render, please try loading this page with nbviewer.org.</b></div><div class=\"sk-container\" hidden><div class=\"sk-item\"><div class=\"sk-estimator sk-toggleable\"><input class=\"sk-toggleable__control sk-hidden--visually\" id=\"sk-estimator-id-2\" type=\"checkbox\" checked><label for=\"sk-estimator-id-2\" class=\"sk-toggleable__label sk-toggleable__label-arrow\">Ridge</label><div class=\"sk-toggleable__content\"><pre>Ridge()</pre></div></div></div></div></div>"
      ],
      "text/plain": [
       "Ridge()"
      ]
     },
     "execution_count": 20,
     "metadata": {},
     "output_type": "execute_result"
    }
   ],
   "source": [
    "from sklearn.linear_model import Ridge\n",
    "\n",
    "# Create a Ridge regression model with a specific alpha value\n",
    "ridge_model = Ridge()\n",
    "\n",
    "# Fit the model to your data\n",
    "ridge_model.fit(x, y)\n"
   ]
  },
  {
   "cell_type": "code",
   "execution_count": 21,
   "id": "ddd39d37",
   "metadata": {
    "execution": {
     "iopub.execute_input": "2025-07-26T16:59:11.109472Z",
     "iopub.status.busy": "2025-07-26T16:59:11.109066Z",
     "iopub.status.idle": "2025-07-26T16:59:11.116496Z",
     "shell.execute_reply": "2025-07-26T16:59:11.115106Z"
    },
    "papermill": {
     "duration": 0.017821,
     "end_time": "2025-07-26T16:59:11.118299",
     "exception": false,
     "start_time": "2025-07-26T16:59:11.100478",
     "status": "completed"
    },
    "tags": []
   },
   "outputs": [
    {
     "data": {
      "text/plain": [
       "array([64.67524464])"
      ]
     },
     "execution_count": 21,
     "metadata": {},
     "output_type": "execute_result"
    }
   ],
   "source": [
    "ridge_model.predict([[4, 82, 2]])"
   ]
  },
  {
   "cell_type": "code",
   "execution_count": null,
   "id": "52b09041",
   "metadata": {
    "papermill": {
     "duration": 0.007371,
     "end_time": "2025-07-26T16:59:11.134123",
     "exception": false,
     "start_time": "2025-07-26T16:59:11.126752",
     "status": "completed"
    },
    "tags": []
   },
   "outputs": [],
   "source": []
  }
 ],
 "metadata": {
  "kaggle": {
   "accelerator": "none",
   "dataSources": [
    {
     "datasetId": 6581140,
     "sourceId": 10629084,
     "sourceType": "datasetVersion"
    }
   ],
   "dockerImageVersionId": 30839,
   "isGpuEnabled": false,
   "isInternetEnabled": true,
   "language": "python",
   "sourceType": "notebook"
  },
  "kernelspec": {
   "display_name": "Python 3",
   "language": "python",
   "name": "python3"
  },
  "language_info": {
   "codemirror_mode": {
    "name": "ipython",
    "version": 3
   },
   "file_extension": ".py",
   "mimetype": "text/x-python",
   "name": "python",
   "nbconvert_exporter": "python",
   "pygments_lexer": "ipython3",
   "version": "3.10.12"
  },
  "papermill": {
   "default_parameters": {},
   "duration": 70.908738,
   "end_time": "2025-07-26T16:59:11.964935",
   "environment_variables": {},
   "exception": null,
   "input_path": "__notebook__.ipynb",
   "output_path": "__notebook__.ipynb",
   "parameters": {},
   "start_time": "2025-07-26T16:58:01.056197",
   "version": "2.6.0"
  }
 },
 "nbformat": 4,
 "nbformat_minor": 5
}
