{
 "cells": [
  {
   "cell_type": "code",
   "execution_count": 1,
   "id": "73779f21",
   "metadata": {
    "_cell_guid": "b1076dfc-b9ad-4769-8c92-a6c4dae69d19",
    "_uuid": "8f2839f25d086af736a60e9eeb907d3b93b6e0e5",
    "execution": {
     "iopub.execute_input": "2025-07-26T16:20:37.119292Z",
     "iopub.status.busy": "2025-07-26T16:20:37.118855Z",
     "iopub.status.idle": "2025-07-26T16:20:37.866932Z",
     "shell.execute_reply": "2025-07-26T16:20:37.866234Z"
    },
    "papermill": {
     "duration": 0.754851,
     "end_time": "2025-07-26T16:20:37.868593",
     "exception": false,
     "start_time": "2025-07-26T16:20:37.113742",
     "status": "completed"
    },
    "tags": []
   },
   "outputs": [],
   "source": [
    "import numpy as np\n",
    "import matplotlib.pyplot as plt\n",
    "import pandas as pd"
   ]
  },
  {
   "cell_type": "code",
   "execution_count": 2,
   "id": "7f01bf6b",
   "metadata": {
    "execution": {
     "iopub.execute_input": "2025-07-26T16:20:37.876271Z",
     "iopub.status.busy": "2025-07-26T16:20:37.875920Z",
     "iopub.status.idle": "2025-07-26T16:20:37.918242Z",
     "shell.execute_reply": "2025-07-26T16:20:37.917421Z"
    },
    "papermill": {
     "duration": 0.047432,
     "end_time": "2025-07-26T16:20:37.919698",
     "exception": false,
     "start_time": "2025-07-26T16:20:37.872266",
     "status": "completed"
    },
    "tags": []
   },
   "outputs": [
    {
     "data": {
      "text/plain": [
       "Index(['date', 'price', 'bedrooms', 'bathrooms', 'sqft_living', 'sqft_lot',\n",
       "       'floors', 'waterfront', 'view', 'condition', 'sqft_above',\n",
       "       'sqft_basement', 'yr_built', 'yr_renovated', 'street', 'city',\n",
       "       'statezip', 'country'],\n",
       "      dtype='object')"
      ]
     },
     "execution_count": 2,
     "metadata": {},
     "output_type": "execute_result"
    }
   ],
   "source": [
    "# import the dataset\n",
    "df = pd.read_csv(r'/kaggle/input/house-prediction-project1/data.csv')\n",
    "df.head()\n",
    "df.shape\n",
    "df.columns"
   ]
  },
  {
   "cell_type": "code",
   "execution_count": 3,
   "id": "296db397",
   "metadata": {
    "execution": {
     "iopub.execute_input": "2025-07-26T16:20:37.927060Z",
     "iopub.status.busy": "2025-07-26T16:20:37.926817Z",
     "iopub.status.idle": "2025-07-26T16:20:37.939601Z",
     "shell.execute_reply": "2025-07-26T16:20:37.938960Z"
    },
    "papermill": {
     "duration": 0.017757,
     "end_time": "2025-07-26T16:20:37.940866",
     "exception": false,
     "start_time": "2025-07-26T16:20:37.923109",
     "status": "completed"
    },
    "tags": []
   },
   "outputs": [],
   "source": [
    "# remove unnecessary columns\n",
    "columns_to_remove = ['date',\n",
    "     'waterfront', 'condition', 'sqft_basement', 'yr_built', 'yr_renovated', 'street', 'city',\n",
    "       'statezip', 'country']\n",
    "\n",
    "original_df = df.drop(columns = columns_to_remove)"
   ]
  },
  {
   "cell_type": "code",
   "execution_count": 4,
   "id": "07686fe2",
   "metadata": {
    "execution": {
     "iopub.execute_input": "2025-07-26T16:20:37.947763Z",
     "iopub.status.busy": "2025-07-26T16:20:37.947555Z",
     "iopub.status.idle": "2025-07-26T16:20:37.951850Z",
     "shell.execute_reply": "2025-07-26T16:20:37.951204Z"
    },
    "papermill": {
     "duration": 0.009059,
     "end_time": "2025-07-26T16:20:37.953031",
     "exception": false,
     "start_time": "2025-07-26T16:20:37.943972",
     "status": "completed"
    },
    "tags": []
   },
   "outputs": [
    {
     "data": {
      "text/plain": [
       "Index(['price', 'bedrooms', 'bathrooms', 'sqft_living', 'sqft_lot', 'floors',\n",
       "       'view', 'sqft_above'],\n",
       "      dtype='object')"
      ]
     },
     "execution_count": 4,
     "metadata": {},
     "output_type": "execute_result"
    }
   ],
   "source": [
    "original_df.columns"
   ]
  },
  {
   "cell_type": "code",
   "execution_count": 5,
   "id": "b23a9518",
   "metadata": {
    "execution": {
     "iopub.execute_input": "2025-07-26T16:20:37.959950Z",
     "iopub.status.busy": "2025-07-26T16:20:37.959751Z",
     "iopub.status.idle": "2025-07-26T16:20:37.963815Z",
     "shell.execute_reply": "2025-07-26T16:20:37.963203Z"
    },
    "papermill": {
     "duration": 0.008694,
     "end_time": "2025-07-26T16:20:37.964965",
     "exception": false,
     "start_time": "2025-07-26T16:20:37.956271",
     "status": "completed"
    },
    "tags": []
   },
   "outputs": [
    {
     "data": {
      "text/plain": [
       "(4600, 8)"
      ]
     },
     "execution_count": 5,
     "metadata": {},
     "output_type": "execute_result"
    }
   ],
   "source": [
    "original_df.shape"
   ]
  },
  {
   "cell_type": "code",
   "execution_count": 6,
   "id": "1158ff63",
   "metadata": {
    "execution": {
     "iopub.execute_input": "2025-07-26T16:20:37.972094Z",
     "iopub.status.busy": "2025-07-26T16:20:37.971899Z",
     "iopub.status.idle": "2025-07-26T16:20:37.988237Z",
     "shell.execute_reply": "2025-07-26T16:20:37.987476Z"
    },
    "papermill": {
     "duration": 0.021423,
     "end_time": "2025-07-26T16:20:37.989660",
     "exception": false,
     "start_time": "2025-07-26T16:20:37.968237",
     "status": "completed"
    },
    "tags": []
   },
   "outputs": [
    {
     "name": "stdout",
     "output_type": "stream",
     "text": [
      "Size before removing outliers: (4600, 8)\n",
      "Size after removing outliers: (3463, 8)\n"
     ]
    }
   ],
   "source": [
    "# remove using IQR method\n",
    "n = original_df.shape[0]\n",
    "Q1 = original_df.quantile(0.25)\n",
    "Q3 = original_df.quantile(0.75)\n",
    "\n",
    "\n",
    "# Calculate the IQR (Interquartile Range) for each column\n",
    "IQR = Q3 - Q1\n",
    "\n",
    "# Define the lower and upper bounds for outliers\n",
    "lower_bound = Q1 - 1.5 * IQR\n",
    "upper_bound = Q3 + 1.5 * IQR\n",
    "\n",
    "# Remove rows that contain outliers\n",
    "# Since you applied ~, it selects only the rows where none of the values are outliers (i.e., the rows \n",
    "# that don’t contain any values greater than the upper bound or less than the lower bound).\n",
    "df_cleaned = original_df[~((original_df < lower_bound) | (original_df > upper_bound)).any(axis=1)]\n",
    "\n",
    "print(\"Size before removing outliers:\", original_df.shape)\n",
    "print(\"Size after removing outliers:\", df_cleaned.shape)\n"
   ]
  },
  {
   "cell_type": "code",
   "execution_count": 7,
   "id": "414113cd",
   "metadata": {
    "execution": {
     "iopub.execute_input": "2025-07-26T16:20:37.997609Z",
     "iopub.status.busy": "2025-07-26T16:20:37.997395Z",
     "iopub.status.idle": "2025-07-26T16:20:38.003233Z",
     "shell.execute_reply": "2025-07-26T16:20:38.002655Z"
    },
    "papermill": {
     "duration": 0.011043,
     "end_time": "2025-07-26T16:20:38.004490",
     "exception": false,
     "start_time": "2025-07-26T16:20:37.993447",
     "status": "completed"
    },
    "tags": []
   },
   "outputs": [],
   "source": [
    "x = np.array(df_cleaned.drop(columns = ['price']))\n",
    "y = np.array(df_cleaned['price'])\n",
    "\n",
    "x_mean = np.mean(x)\n",
    "std_x = np.std(x)\n",
    "\n",
    "# Check if std_x is not equal to zero before dividing\n",
    "if std_x != 0:\n",
    "    x_norm = (x - x_mean) / std_x\n",
    "else:\n",
    "    print(\"Standard deviation is zero, skipping normalization.\")\n",
    "    x_norm = x \n",
    "\n",
    "y_mean = y.mean(axis=0)\n",
    "std_y = y.std(axis=0)\n",
    "y_norm = (y - y_mean) / std_y"
   ]
  },
  {
   "cell_type": "code",
   "execution_count": 8,
   "id": "5bf77245",
   "metadata": {
    "execution": {
     "iopub.execute_input": "2025-07-26T16:20:38.011744Z",
     "iopub.status.busy": "2025-07-26T16:20:38.011532Z",
     "iopub.status.idle": "2025-07-26T16:20:38.014498Z",
     "shell.execute_reply": "2025-07-26T16:20:38.013717Z"
    },
    "papermill": {
     "duration": 0.007968,
     "end_time": "2025-07-26T16:20:38.015760",
     "exception": false,
     "start_time": "2025-07-26T16:20:38.007792",
     "status": "completed"
    },
    "tags": []
   },
   "outputs": [],
   "source": [
    "# def compute_cost(w, x, y, b):\n",
    "#     m = len(x)\n",
    "#     # formula = 1 / 2m ∑ (predicted - actual) ** 2\n",
    "#     total_cost = 0\n",
    "#     for i in range(m):\n",
    "#         prediction = np.dot(w, x[i]) + b\n",
    "#         total_cost += (prediction - y[i]) ** 2\n",
    "#     total_cost = total_cost / (2 * m)\n",
    "    \n",
    "#     # should be scalar output\n",
    "#     return total_cost "
   ]
  },
  {
   "cell_type": "code",
   "execution_count": 9,
   "id": "61cded5b",
   "metadata": {
    "execution": {
     "iopub.execute_input": "2025-07-26T16:20:38.023025Z",
     "iopub.status.busy": "2025-07-26T16:20:38.022826Z",
     "iopub.status.idle": "2025-07-26T16:20:38.026986Z",
     "shell.execute_reply": "2025-07-26T16:20:38.026360Z"
    },
    "papermill": {
     "duration": 0.009102,
     "end_time": "2025-07-26T16:20:38.028236",
     "exception": false,
     "start_time": "2025-07-26T16:20:38.019134",
     "status": "completed"
    },
    "tags": []
   },
   "outputs": [],
   "source": [
    "def compute_cost(w, x, y, b, lamda):\n",
    "    m = len(x)\n",
    "    # formula = 1 / 2m ∑ (predicted - actual) ** 2\n",
    "    total_cost = 0\n",
    "    for i in range(m):\n",
    "        prediction = np.dot(w, x[i]) + b\n",
    "        total_cost += (prediction - y[i]) ** 2\n",
    "    total_cost = total_cost / (2 * m)\n",
    "    \n",
    "    # should be scalar output\n",
    "    reg = 0\n",
    "    n = len(w)\n",
    "    for j in range(n):\n",
    "        reg += w[j] ** 2\n",
    "\n",
    "    reg = lamda / (2 * m) * reg\n",
    "\n",
    "    return total_cost + reg"
   ]
  },
  {
   "cell_type": "code",
   "execution_count": 10,
   "id": "f89fb122",
   "metadata": {
    "execution": {
     "iopub.execute_input": "2025-07-26T16:20:38.035561Z",
     "iopub.status.busy": "2025-07-26T16:20:38.035334Z",
     "iopub.status.idle": "2025-07-26T16:20:38.039496Z",
     "shell.execute_reply": "2025-07-26T16:20:38.038674Z"
    },
    "papermill": {
     "duration": 0.009266,
     "end_time": "2025-07-26T16:20:38.040830",
     "exception": false,
     "start_time": "2025-07-26T16:20:38.031564",
     "status": "completed"
    },
    "tags": []
   },
   "outputs": [],
   "source": [
    "def compute_gradient(w, x, y, b):\n",
    "\n",
    "    # formula = w  - alpha (dj / dw) * x\n",
    "    # b = b - alpha (db / db)\n",
    "    m = len(x)\n",
    "    dw = np.zeros_like(w)\n",
    "    db = 0\n",
    "\n",
    "    for i in range(m):\n",
    "        prediction = np.dot(w, x[i]) + b\n",
    "        dw += (prediction -  y[i]) * x[i]\n",
    "        db += (prediction -  y[i])\n",
    "\n",
    "        \n",
    "    dw /= m\n",
    "    db /= m\n",
    "\n",
    "    return dw, db"
   ]
  },
  {
   "cell_type": "code",
   "execution_count": 11,
   "id": "d2da0eb0",
   "metadata": {
    "execution": {
     "iopub.execute_input": "2025-07-26T16:20:38.048234Z",
     "iopub.status.busy": "2025-07-26T16:20:38.047999Z",
     "iopub.status.idle": "2025-07-26T16:20:55.771684Z",
     "shell.execute_reply": "2025-07-26T16:20:55.770676Z"
    },
    "papermill": {
     "duration": 17.72912,
     "end_time": "2025-07-26T16:20:55.773381",
     "exception": false,
     "start_time": "2025-07-26T16:20:38.044261",
     "status": "completed"
    },
    "tags": []
   },
   "outputs": [
    {
     "name": "stdout",
     "output_type": "stream",
     "text": [
      "prev 1.1403814543632875\n",
      "Iteration    0: Cost 1.135247   \n",
      "Iteration  100: Cost 0.861722   \n",
      "Iteration  200: Cost 0.787285   \n",
      "Iteration  300: Cost 0.758691   \n",
      "Iteration  400: Cost 0.741245   \n",
      "Iteration  500: Cost 0.727038   \n",
      "Iteration  600: Cost 0.714224   \n",
      "Iteration  700: Cost 0.702330   \n",
      "Iteration  800: Cost 0.691198   \n",
      "Iteration  900: Cost 0.680748   \n",
      "w found by gradient descent: [-0.89969295  1.00754032 -1.67426476  0.23440614  0.77655362  0.87007695\n",
      "  1.2169787 ]\n",
      "b found :  0.5182500770142117\n"
     ]
    }
   ],
   "source": [
    "import math\n",
    "def gradient_descent(alpha, w, x, b, y,iterations):\n",
    "    # formula = w  - alpha (dj / dw) * x\n",
    "    # b = b - alpha (dj / db)\n",
    "\n",
    "    J = []\n",
    "    # cost function output should be scalar\n",
    "    prev_cost=compute_cost(w,x,y,b, 0.7)\n",
    "    print(\"prev\", prev_cost)\n",
    "    for i in range(iterations):\n",
    "\n",
    "        dw, db = compute_gradient(w, x, y, b)\n",
    "\n",
    "        w = w - alpha * dw\n",
    "        b = b - alpha * db\n",
    "        curr_cost=compute_cost(w,x,y,b, 0.7)\n",
    "        if i % 100 == 0 :\n",
    "            J.append(curr_cost)\n",
    "            print(f\"Iteration {i:4}: Cost {(J[-1]):8.6f}   \")\n",
    "        if(abs(prev_cost-curr_cost)<1e-7):\n",
    "            break\n",
    "        prev_cost=curr_cost\n",
    "    return w,b, J\n",
    "\n",
    "initial_w = np.random.randn(7)\n",
    "initial_b = 0.25\n",
    "alpha = 0.001\n",
    "w,b,cost = gradient_descent(alpha, initial_w, x_norm, initial_b, y_norm, \n",
    "                     1000)\n",
    "\n",
    "# we have 6 features, so 6 weights and bias\n",
    "print(\"w found by gradient descent:\", w)\n",
    "print(\"b found : \", b)\n"
   ]
  },
  {
   "cell_type": "code",
   "execution_count": 12,
   "id": "9edbb1a6",
   "metadata": {
    "execution": {
     "iopub.execute_input": "2025-07-26T16:20:55.783043Z",
     "iopub.status.busy": "2025-07-26T16:20:55.782801Z",
     "iopub.status.idle": "2025-07-26T16:20:55.965716Z",
     "shell.execute_reply": "2025-07-26T16:20:55.964838Z"
    },
    "papermill": {
     "duration": 0.188978,
     "end_time": "2025-07-26T16:20:55.967056",
     "exception": false,
     "start_time": "2025-07-26T16:20:55.778078",
     "status": "completed"
    },
    "tags": []
   },
   "outputs": [
    {
     "data": {
      "image/png": "[encoded data removed]",
      "text/plain": [
       "<Figure size 640x480 with 1 Axes>"
      ]
     },
     "metadata": {},
     "output_type": "display_data"
    }
   ],
   "source": [
    "plt.plot(cost)\n",
    "plt.xlabel('Iterations')\n",
    "plt.ylabel('cost')\n",
    "plt.show()"
   ]
  },
  {
   "cell_type": "code",
   "execution_count": 13,
   "id": "f5bc47a9",
   "metadata": {
    "execution": {
     "iopub.execute_input": "2025-07-26T16:20:55.976572Z",
     "iopub.status.busy": "2025-07-26T16:20:55.976348Z",
     "iopub.status.idle": "2025-07-26T16:20:55.981079Z",
     "shell.execute_reply": "2025-07-26T16:20:55.980369Z"
    },
    "papermill": {
     "duration": 0.010582,
     "end_time": "2025-07-26T16:20:55.982259",
     "exception": false,
     "start_time": "2025-07-26T16:20:55.971677",
     "status": "completed"
    },
    "tags": []
   },
   "outputs": [
    {
     "name": "stdout",
     "output_type": "stream",
     "text": [
      "Index(['bedrooms', 'bathrooms', 'sqft_living', 'sqft_lot', 'floors', 'view',\n",
      "       'sqft_above'],\n",
      "      dtype='object')\n"
     ]
    }
   ],
   "source": [
    "feature_names = original_df.drop(columns=['price']).columns\n",
    "print(feature_names)"
   ]
  },
  {
   "cell_type": "code",
   "execution_count": 14,
   "id": "50310290",
   "metadata": {
    "execution": {
     "iopub.execute_input": "2025-07-26T16:20:55.991643Z",
     "iopub.status.busy": "2025-07-26T16:20:55.991387Z",
     "iopub.status.idle": "2025-07-26T16:20:55.996938Z",
     "shell.execute_reply": "2025-07-26T16:20:55.996168Z"
    },
    "papermill": {
     "duration": 0.011586,
     "end_time": "2025-07-26T16:20:55.998134",
     "exception": false,
     "start_time": "2025-07-26T16:20:55.986548",
     "status": "completed"
    },
    "tags": []
   },
   "outputs": [
    {
     "name": "stdout",
     "output_type": "stream",
     "text": [
      "Normalized new data: [-0.54365013 -0.54435998  0.10088911  1.22954262 -0.54435998 -0.5447149\n",
      "  0.03700306]\n",
      "Predicted price: 74867.5649554716\n"
     ]
    }
   ],
   "source": [
    "# New data (before normalization)\n",
    "new_data = np.array([4, 2, 1820, 5000, 2, 1, 1640])\n",
    "\n",
    "# Normalize the new data using the same max values as the training data\n",
    "\n",
    "new_norm = (new_data - x_mean) / std_x  # Use max values from training data for consistency\n",
    "\n",
    "print(\"Normalized new data:\", new_norm)\n",
    "\n",
    "# Now make the prediction using the normalized new data\n",
    "predicted_price = np.dot(w, new_norm) + b\n",
    "print(f\"Predicted price: {predicted_price * y_mean + std_y}\")\n"
   ]
  },
  {
   "cell_type": "code",
   "execution_count": 15,
   "id": "169c46dc",
   "metadata": {
    "execution": {
     "iopub.execute_input": "2025-07-26T16:20:56.007254Z",
     "iopub.status.busy": "2025-07-26T16:20:56.007022Z",
     "iopub.status.idle": "2025-07-26T16:20:56.011240Z",
     "shell.execute_reply": "2025-07-26T16:20:56.010595Z"
    },
    "papermill": {
     "duration": 0.010001,
     "end_time": "2025-07-26T16:20:56.012457",
     "exception": false,
     "start_time": "2025-07-26T16:20:56.002456",
     "status": "completed"
    },
    "tags": []
   },
   "outputs": [],
   "source": [
    "# Now the actual and predicted price are different\n",
    "\n",
    "#  We are going to use regularization method\n",
    "\n",
    "# formula  = lambda / 2m ∑ (wj **2)\n",
    "\n",
    "def compute_cost(w, x, y, b, lamda):\n",
    "    m = len(x)\n",
    "    # formula = 1 / 2m ∑ (predicted - actual) ** 2\n",
    "    total_cost = 0\n",
    "    for i in range(m):\n",
    "        prediction = np.dot(w, x[i]) + b\n",
    "        total_cost += (prediction - y[i]) ** 2\n",
    "    total_cost = total_cost / (2 * m)\n",
    "    \n",
    "    # should be scalar output\n",
    "    reg = 0\n",
    "    for j in range(m):\n",
    "        reg += w[j] ** 2\n",
    "\n",
    "    reg = lamda / (2 * m) * reg\n",
    "\n",
    "    return totalcost + reg"
   ]
  },
  {
   "cell_type": "code",
   "execution_count": 16,
   "id": "ec0cd03d",
   "metadata": {
    "execution": {
     "iopub.execute_input": "2025-07-26T16:20:56.021681Z",
     "iopub.status.busy": "2025-07-26T16:20:56.021467Z",
     "iopub.status.idle": "2025-07-26T16:20:56.024329Z",
     "shell.execute_reply": "2025-07-26T16:20:56.023688Z"
    },
    "papermill": {
     "duration": 0.008769,
     "end_time": "2025-07-26T16:20:56.025484",
     "exception": false,
     "start_time": "2025-07-26T16:20:56.016715",
     "status": "completed"
    },
    "tags": []
   },
   "outputs": [],
   "source": [
    "# Now how will you choose perfect lambda ? \n"
   ]
  }
 ],
 "metadata": {
  "kaggle": {
   "accelerator": "gpu",
   "dataSources": [
    {
     "datasetId": 6572246,
     "sourceId": 10615535,
     "sourceType": "datasetVersion"
    }
   ],
   "dockerImageVersionId": 30839,
   "isGpuEnabled": true,
   "isInternetEnabled": true,
   "language": "python",
   "sourceType": "notebook"
  },
  "kernelspec": {
   "display_name": "Python 3",
   "language": "python",
   "name": "python3"
  },
  "language_info": {
   "codemirror_mode": {
    "name": "ipython",
    "version": 3
   },
   "file_extension": ".py",
   "mimetype": "text/x-python",
   "name": "python",
   "nbconvert_exporter": "python",
   "pygments_lexer": "ipython3",
   "version": "3.10.12"
  },
  "papermill": {
   "default_parameters": {},
   "duration": 21.930702,
   "end_time": "2025-07-26T16:20:56.447281",
   "environment_variables": {},
   "exception": null,
   "input_path": "__notebook__.ipynb",
   "output_path": "__notebook__.ipynb",
   "parameters": {},
   "start_time": "2025-07-26T16:20:34.516579",
   "version": "2.6.0"
  }
 },
 "nbformat": 4,
 "nbformat_minor": 5
}
