{
 "cells": [
  {
   "cell_type": "code",
   "execution_count": 1,
   "id": "ab897608",
   "metadata": {
    "_cell_guid": "b1076dfc-b9ad-4769-8c92-a6c4dae69d19",
    "_uuid": "8f2839f25d086af736a60e9eeb907d3b93b6e0e5",
    "execution": {
     "iopub.execute_input": "2025-07-26T15:43:48.648363Z",
     "iopub.status.busy": "2025-07-26T15:43:48.648075Z",
     "iopub.status.idle": "2025-07-26T15:43:49.353604Z",
     "shell.execute_reply": "2025-07-26T15:43:49.352937Z"
    },
    "papermill": {
     "duration": 0.71195,
     "end_time": "2025-07-26T15:43:49.355340",
     "exception": false,
     "start_time": "2025-07-26T15:43:48.643390",
     "status": "completed"
    },
    "tags": []
   },
   "outputs": [],
   "source": [
    "import numpy as np\n",
    "import matplotlib.pyplot as plt\n",
    "import pandas as pd"
   ]
  },
  {
   "cell_type": "code",
   "execution_count": 2,
   "id": "0c865a5b",
   "metadata": {
    "execution": {
     "iopub.execute_input": "2025-07-26T15:43:49.362673Z",
     "iopub.status.busy": "2025-07-26T15:43:49.362307Z",
     "iopub.status.idle": "2025-07-26T15:43:49.403593Z",
     "shell.execute_reply": "2025-07-26T15:43:49.402724Z"
    },
    "papermill": {
     "duration": 0.046143,
     "end_time": "2025-07-26T15:43:49.404983",
     "exception": false,
     "start_time": "2025-07-26T15:43:49.358840",
     "status": "completed"
    },
    "tags": []
   },
   "outputs": [
    {
     "data": {
      "text/plain": [
       "Index(['date', 'price', 'bedrooms', 'bathrooms', 'sqft_living', 'sqft_lot',\n",
       "       'floors', 'waterfront', 'view', 'condition', 'sqft_above',\n",
       "       'sqft_basement', 'yr_built', 'yr_renovated', 'street', 'city',\n",
       "       'statezip', 'country'],\n",
       "      dtype='object')"
      ]
     },
     "execution_count": 2,
     "metadata": {},
     "output_type": "execute_result"
    }
   ],
   "source": [
    "# import the dataset\n",
    "df = pd.read_csv(r'/kaggle/input/house-prediction-project1/data.csv')\n",
    "df.head()\n",
    "df.shape\n",
    "df.columns"
   ]
  },
  {
   "cell_type": "code",
   "execution_count": 3,
   "id": "115d0674",
   "metadata": {
    "execution": {
     "iopub.execute_input": "2025-07-26T15:43:49.411943Z",
     "iopub.status.busy": "2025-07-26T15:43:49.411682Z",
     "iopub.status.idle": "2025-07-26T15:43:49.423991Z",
     "shell.execute_reply": "2025-07-26T15:43:49.423110Z"
    },
    "papermill": {
     "duration": 0.017077,
     "end_time": "2025-07-26T15:43:49.425255",
     "exception": false,
     "start_time": "2025-07-26T15:43:49.408178",
     "status": "completed"
    },
    "tags": []
   },
   "outputs": [],
   "source": [
    "# remove unnecessary columns\n",
    "columns_to_remove = ['date',\n",
    "       'waterfront', 'view', 'condition', 'sqft_basement', 'yr_built', 'yr_renovated', 'street', 'city',\n",
    "       'statezip', 'country']\n",
    "\n",
    "original_df = df.drop(columns = columns_to_remove)"
   ]
  },
  {
   "cell_type": "code",
   "execution_count": 4,
   "id": "95564a6b",
   "metadata": {
    "execution": {
     "iopub.execute_input": "2025-07-26T15:43:49.431877Z",
     "iopub.status.busy": "2025-07-26T15:43:49.431645Z",
     "iopub.status.idle": "2025-07-26T15:43:49.436221Z",
     "shell.execute_reply": "2025-07-26T15:43:49.435302Z"
    },
    "papermill": {
     "duration": 0.009281,
     "end_time": "2025-07-26T15:43:49.437530",
     "exception": false,
     "start_time": "2025-07-26T15:43:49.428249",
     "status": "completed"
    },
    "tags": []
   },
   "outputs": [
    {
     "data": {
      "text/plain": [
       "Index(['price', 'bedrooms', 'bathrooms', 'sqft_living', 'sqft_lot', 'floors',\n",
       "       'sqft_above'],\n",
       "      dtype='object')"
      ]
     },
     "execution_count": 4,
     "metadata": {},
     "output_type": "execute_result"
    }
   ],
   "source": [
    "original_df.columns"
   ]
  },
  {
   "cell_type": "code",
   "execution_count": 5,
   "id": "e5e755aa",
   "metadata": {
    "execution": {
     "iopub.execute_input": "2025-07-26T15:43:49.444274Z",
     "iopub.status.busy": "2025-07-26T15:43:49.444050Z",
     "iopub.status.idle": "2025-07-26T15:43:49.448302Z",
     "shell.execute_reply": "2025-07-26T15:43:49.447526Z"
    },
    "papermill": {
     "duration": 0.008875,
     "end_time": "2025-07-26T15:43:49.449476",
     "exception": false,
     "start_time": "2025-07-26T15:43:49.440601",
     "status": "completed"
    },
    "tags": []
   },
   "outputs": [
    {
     "data": {
      "text/plain": [
       "(4600, 7)"
      ]
     },
     "execution_count": 5,
     "metadata": {},
     "output_type": "execute_result"
    }
   ],
   "source": [
    "original_df.shape"
   ]
  },
  {
   "cell_type": "code",
   "execution_count": 6,
   "id": "1ac58814",
   "metadata": {
    "execution": {
     "iopub.execute_input": "2025-07-26T15:43:49.456343Z",
     "iopub.status.busy": "2025-07-26T15:43:49.456110Z",
     "iopub.status.idle": "2025-07-26T15:43:49.472208Z",
     "shell.execute_reply": "2025-07-26T15:43:49.471385Z"
    },
    "papermill": {
     "duration": 0.021061,
     "end_time": "2025-07-26T15:43:49.473606",
     "exception": false,
     "start_time": "2025-07-26T15:43:49.452545",
     "status": "completed"
    },
    "tags": []
   },
   "outputs": [
    {
     "name": "stdout",
     "output_type": "stream",
     "text": [
      "Size before removing outliers: (4600, 7)\n",
      "Size after removing outliers: (3710, 7)\n"
     ]
    }
   ],
   "source": [
    "# remove using IQR method\n",
    "n = original_df.shape[0]\n",
    "Q1 = original_df.quantile(0.25)\n",
    "Q3 = original_df.quantile(0.75)\n",
    "\n",
    "\n",
    "# Calculate the IQR (Interquartile Range) for each column\n",
    "IQR = Q3 - Q1\n",
    "\n",
    "# Define the lower and upper bounds for outliers\n",
    "lower_bound = Q1 - 1.5 * IQR\n",
    "upper_bound = Q3 + 1.5 * IQR\n",
    "\n",
    "# Remove rows that contain outliers\n",
    "# Since you applied ~, it selects only the rows where none of the values are outliers (i.e., the rows \n",
    "# that don’t contain any values greater than the upper bound or less than the lower bound).\n",
    "df_cleaned = original_df[~((original_df < lower_bound) | (original_df > upper_bound)).any(axis=1)]\n",
    "\n",
    "print(\"Size before removing outliers:\", original_df.shape)\n",
    "print(\"Size after removing outliers:\", df_cleaned.shape)\n"
   ]
  },
  {
   "cell_type": "code",
   "execution_count": 7,
   "id": "a4de3608",
   "metadata": {
    "execution": {
     "iopub.execute_input": "2025-07-26T15:43:49.481362Z",
     "iopub.status.busy": "2025-07-26T15:43:49.481135Z",
     "iopub.status.idle": "2025-07-26T15:43:49.504281Z",
     "shell.execute_reply": "2025-07-26T15:43:49.503330Z"
    },
    "papermill": {
     "duration": 0.028399,
     "end_time": "2025-07-26T15:43:49.505620",
     "exception": false,
     "start_time": "2025-07-26T15:43:49.477221",
     "status": "completed"
    },
    "tags": []
   },
   "outputs": [],
   "source": [
    "x = np.array(original_df.drop(columns = ['price']))\n",
    "y = np.array(original_df['price'])\n",
    "\n",
    "x_mean = x.mean(axis=0)\n",
    "std_x = x.std(axis=0)\n",
    "x_norm = (x - x_mean) / std_x\n",
    "\n",
    "y_mean = y.mean(axis=0)\n",
    "std_y = y.std(axis=0)\n",
    "y_norm = (y - y_mean) / std_y"
   ]
  },
  {
   "cell_type": "code",
   "execution_count": 8,
   "id": "603e5495",
   "metadata": {
    "execution": {
     "iopub.execute_input": "2025-07-26T15:43:49.512514Z",
     "iopub.status.busy": "2025-07-26T15:43:49.512285Z",
     "iopub.status.idle": "2025-07-26T15:43:49.515343Z",
     "shell.execute_reply": "2025-07-26T15:43:49.514700Z"
    },
    "papermill": {
     "duration": 0.007961,
     "end_time": "2025-07-26T15:43:49.516693",
     "exception": false,
     "start_time": "2025-07-26T15:43:49.508732",
     "status": "completed"
    },
    "tags": []
   },
   "outputs": [],
   "source": [
    "# def compute_cost(w, x, y, b):\n",
    "#     m = len(x)\n",
    "#     # formula = 1 / 2m ∑ (predicted - actual) ** 2\n",
    "#     total_cost = 0\n",
    "#     for i in range(m):\n",
    "#         prediction = np.dot(w, x[i]) + b\n",
    "#         total_cost += (prediction - y[i]) ** 2\n",
    "#     total_cost = total_cost / (2 * m)\n",
    "    \n",
    "#     # should be scalar output\n",
    "#     return total_cost "
   ]
  },
  {
   "cell_type": "code",
   "execution_count": 9,
   "id": "fea9bbfb",
   "metadata": {
    "execution": {
     "iopub.execute_input": "2025-07-26T15:43:49.524093Z",
     "iopub.status.busy": "2025-07-26T15:43:49.523808Z",
     "iopub.status.idle": "2025-07-26T15:43:49.528002Z",
     "shell.execute_reply": "2025-07-26T15:43:49.527316Z"
    },
    "papermill": {
     "duration": 0.009306,
     "end_time": "2025-07-26T15:43:49.529192",
     "exception": false,
     "start_time": "2025-07-26T15:43:49.519886",
     "status": "completed"
    },
    "tags": []
   },
   "outputs": [],
   "source": [
    "def compute_cost(w, x, y, b, lamda):\n",
    "    m = len(x)\n",
    "    # formula = 1 / 2m ∑ (predicted - actual) ** 2\n",
    "    total_cost = 0\n",
    "    for i in range(m):\n",
    "        prediction = np.dot(w, x[i]) + b\n",
    "        total_cost += (prediction - y[i]) ** 2\n",
    "    total_cost = total_cost / (2 * m)\n",
    "    \n",
    "    # should be scalar output\n",
    "    reg = 0\n",
    "    n = len(w)\n",
    "    for j in range(n):\n",
    "        reg += w[j] ** 2\n",
    "\n",
    "    reg = lamda / (2 * m) * reg\n",
    "\n",
    "    return total_cost + reg"
   ]
  },
  {
   "cell_type": "code",
   "execution_count": 10,
   "id": "a76938bf",
   "metadata": {
    "execution": {
     "iopub.execute_input": "2025-07-26T15:43:49.536332Z",
     "iopub.status.busy": "2025-07-26T15:43:49.536132Z",
     "iopub.status.idle": "2025-07-26T15:43:49.539877Z",
     "shell.execute_reply": "2025-07-26T15:43:49.539238Z"
    },
    "papermill": {
     "duration": 0.008829,
     "end_time": "2025-07-26T15:43:49.541174",
     "exception": false,
     "start_time": "2025-07-26T15:43:49.532345",
     "status": "completed"
    },
    "tags": []
   },
   "outputs": [],
   "source": [
    "def compute_gradient(w, x, y, b):\n",
    "\n",
    "    # formula = w  - alpha (dj / dw) * x\n",
    "    # b = b - alpha (db / db)\n",
    "    m = len(x)\n",
    "    dw = np.zeros_like(w)\n",
    "    db = 0\n",
    "\n",
    "    for i in range(m):\n",
    "        prediction = np.dot(w, x[i]) + b\n",
    "        dw += (prediction -  y[i]) * x[i]\n",
    "        db += (prediction -  y[i])\n",
    "\n",
    "        \n",
    "    dw /= m\n",
    "    db /= m\n",
    "\n",
    "    return dw, db"
   ]
  },
  {
   "cell_type": "code",
   "execution_count": 11,
   "id": "9cab1202",
   "metadata": {
    "execution": {
     "iopub.execute_input": "2025-07-26T15:43:49.549303Z",
     "iopub.status.busy": "2025-07-26T15:43:49.549102Z",
     "iopub.status.idle": "2025-07-26T15:47:39.808814Z",
     "shell.execute_reply": "2025-07-26T15:47:39.807964Z"
    },
    "papermill": {
     "duration": 230.265017,
     "end_time": "2025-07-26T15:47:39.810311",
     "exception": false,
     "start_time": "2025-07-26T15:43:49.545294",
     "status": "completed"
    },
    "tags": []
   },
   "outputs": [
    {
     "name": "stdout",
     "output_type": "stream",
     "text": [
      "prev 1.6947040753424965\n",
      "Iteration    0: Cost 1.690987   \n",
      "Iteration  100: Cost 1.385930   \n",
      "Iteration  200: Cost 1.182495   \n",
      "Iteration  300: Cost 1.039227   \n",
      "Iteration  400: Cost 0.933383   \n",
      "Iteration  500: Cost 0.852116   \n",
      "Iteration  600: Cost 0.787880   \n",
      "Iteration  700: Cost 0.736030   \n",
      "Iteration  800: Cost 0.693550   \n",
      "Iteration  900: Cost 0.658374   \n",
      "Iteration 1000: Cost 0.629015   \n",
      "Iteration 1100: Cost 0.604361   \n",
      "Iteration 1200: Cost 0.583551   \n",
      "Iteration 1300: Cost 0.565906   \n",
      "Iteration 1400: Cost 0.550881   \n",
      "Iteration 1500: Cost 0.538033   \n",
      "Iteration 1600: Cost 0.527002   \n",
      "Iteration 1700: Cost 0.517489   \n",
      "Iteration 1800: Cost 0.509249   \n",
      "Iteration 1900: Cost 0.502081   \n",
      "Iteration 2000: Cost 0.495816   \n",
      "Iteration 2100: Cost 0.490315   \n",
      "Iteration 2200: Cost 0.485460   \n",
      "Iteration 2300: Cost 0.481157   \n",
      "Iteration 2400: Cost 0.477323   \n",
      "Iteration 2500: Cost 0.473890   \n",
      "Iteration 2600: Cost 0.470803   \n",
      "Iteration 2700: Cost 0.468013   \n",
      "Iteration 2800: Cost 0.465479   \n",
      "Iteration 2900: Cost 0.463169   \n",
      "Iteration 3000: Cost 0.461052   \n",
      "Iteration 3100: Cost 0.459105   \n",
      "Iteration 3200: Cost 0.457307   \n",
      "Iteration 3300: Cost 0.455640   \n",
      "Iteration 3400: Cost 0.454089   \n",
      "Iteration 3500: Cost 0.452641   \n",
      "Iteration 3600: Cost 0.451284   \n",
      "Iteration 3700: Cost 0.450008   \n",
      "Iteration 3800: Cost 0.448806   \n",
      "Iteration 3900: Cost 0.447670   \n",
      "Iteration 4000: Cost 0.446594   \n",
      "Iteration 4100: Cost 0.445571   \n",
      "Iteration 4200: Cost 0.444597   \n",
      "Iteration 4300: Cost 0.443668   \n",
      "Iteration 4400: Cost 0.442780   \n",
      "Iteration 4500: Cost 0.441930   \n",
      "Iteration 4600: Cost 0.441114   \n",
      "Iteration 4700: Cost 0.440330   \n",
      "Iteration 4800: Cost 0.439575   \n",
      "Iteration 4900: Cost 0.438847   \n",
      "Iteration 5000: Cost 0.438145   \n",
      "Iteration 5100: Cost 0.437466   \n",
      "Iteration 5200: Cost 0.436809   \n",
      "Iteration 5300: Cost 0.436173   \n",
      "Iteration 5400: Cost 0.435556   \n",
      "Iteration 5500: Cost 0.434958   \n",
      "Iteration 5600: Cost 0.434376   \n",
      "Iteration 5700: Cost 0.433811   \n",
      "Iteration 5800: Cost 0.433261   \n",
      "Iteration 5900: Cost 0.432725   \n",
      "Iteration 6000: Cost 0.432203   \n",
      "Iteration 6100: Cost 0.431694   \n",
      "Iteration 6200: Cost 0.431198   \n",
      "Iteration 6300: Cost 0.430713   \n",
      "Iteration 6400: Cost 0.430239   \n",
      "Iteration 6500: Cost 0.429777   \n",
      "Iteration 6600: Cost 0.429324   \n",
      "Iteration 6700: Cost 0.428882   \n",
      "Iteration 6800: Cost 0.428449   \n",
      "Iteration 6900: Cost 0.428025   \n",
      "Iteration 7000: Cost 0.427610   \n",
      "Iteration 7100: Cost 0.427204   \n",
      "Iteration 7200: Cost 0.426806   \n",
      "Iteration 7300: Cost 0.426415   \n",
      "Iteration 7400: Cost 0.426033   \n",
      "Iteration 7500: Cost 0.425658   \n",
      "Iteration 7600: Cost 0.425290   \n",
      "Iteration 7700: Cost 0.424928   \n",
      "Iteration 7800: Cost 0.424574   \n",
      "Iteration 7900: Cost 0.424227   \n",
      "Iteration 8000: Cost 0.423885   \n",
      "Iteration 8100: Cost 0.423550   \n",
      "Iteration 8200: Cost 0.423221   \n",
      "Iteration 8300: Cost 0.422898   \n",
      "Iteration 8400: Cost 0.422581   \n",
      "Iteration 8500: Cost 0.422269   \n",
      "Iteration 8600: Cost 0.421963   \n",
      "Iteration 8700: Cost 0.421662   \n",
      "Iteration 8800: Cost 0.421366   \n",
      "Iteration 8900: Cost 0.421076   \n",
      "Iteration 9000: Cost 0.420790   \n",
      "Iteration 9100: Cost 0.420510   \n",
      "Iteration 9200: Cost 0.420234   \n",
      "Iteration 9300: Cost 0.419963   \n",
      "Iteration 9400: Cost 0.419696   \n",
      "Iteration 9500: Cost 0.419434   \n",
      "Iteration 9600: Cost 0.419176   \n",
      "Iteration 9700: Cost 0.418923   \n",
      "Iteration 9800: Cost 0.418674   \n",
      "Iteration 9900: Cost 0.418429   \n",
      "w found by gradient descent: [-0.05533745  0.13914362  0.0970959  -0.04704486 -0.10949074  0.30912772]\n",
      "b found :  1.1293336494378057e-05\n"
     ]
    }
   ],
   "source": [
    "import math\n",
    "def gradient_descent(alpha, w, x, b, y,iterations):\n",
    "    # formula = w  - alpha (dj / dw) * x\n",
    "    # b = b - alpha (dj / db)\n",
    "\n",
    "    J = []\n",
    "    # cost function output should be scalar\n",
    "    prev_cost=compute_cost(w,x,y,b, 0.5)\n",
    "    print(\"prev\", prev_cost)\n",
    "    for i in range(iterations):\n",
    "\n",
    "        dw, db = compute_gradient(w, x, y, b)\n",
    "\n",
    "        w = w - alpha * dw\n",
    "        b = b - alpha * db\n",
    "        curr_cost=compute_cost(w,x,y,b, 0.7)\n",
    "        if i % 100 == 0 :\n",
    "            J.append(curr_cost)\n",
    "            print(f\"Iteration {i:4}: Cost {(J[-1]):8.6f}   \")\n",
    "        if(abs(prev_cost-curr_cost)<1e-7):\n",
    "            break\n",
    "        prev_cost=curr_cost\n",
    "    return w,b, J\n",
    "\n",
    "initial_w = np.random.randn(6)\n",
    "initial_b = 0.25\n",
    "alpha = 0.001\n",
    "w,b,cost = gradient_descent(alpha, initial_w, x_norm, initial_b, y_norm, \n",
    "                     10000)\n",
    "\n",
    "# we have 6 features, so 6 weights and bias\n",
    "print(\"w found by gradient descent:\", w)\n",
    "print(\"b found : \", b)\n"
   ]
  },
  {
   "cell_type": "code",
   "execution_count": 12,
   "id": "a2473790",
   "metadata": {
    "execution": {
     "iopub.execute_input": "2025-07-26T15:47:39.826505Z",
     "iopub.status.busy": "2025-07-26T15:47:39.826267Z",
     "iopub.status.idle": "2025-07-26T15:47:40.032112Z",
     "shell.execute_reply": "2025-07-26T15:47:40.031330Z"
    },
    "papermill": {
     "duration": 0.215333,
     "end_time": "2025-07-26T15:47:40.033516",
     "exception": false,
     "start_time": "2025-07-26T15:47:39.818183",
     "status": "completed"
    },
    "tags": []
   },
   "outputs": [
    {
     "data": {
      "image/png": "[encoded data removed]",
      "text/plain": [
       "<Figure size 640x480 with 1 Axes>"
      ]
     },
     "metadata": {},
     "output_type": "display_data"
    }
   ],
   "source": [
    "plt.plot(cost)\n",
    "plt.xlabel('Iterations')\n",
    "plt.ylabel('cost')\n",
    "plt.show()"
   ]
  },
  {
   "cell_type": "code",
   "execution_count": 13,
   "id": "84cf0737",
   "metadata": {
    "execution": {
     "iopub.execute_input": "2025-07-26T15:47:40.050146Z",
     "iopub.status.busy": "2025-07-26T15:47:40.049878Z",
     "iopub.status.idle": "2025-07-26T15:47:40.054881Z",
     "shell.execute_reply": "2025-07-26T15:47:40.053993Z"
    },
    "papermill": {
     "duration": 0.014625,
     "end_time": "2025-07-26T15:47:40.056211",
     "exception": false,
     "start_time": "2025-07-26T15:47:40.041586",
     "status": "completed"
    },
    "tags": []
   },
   "outputs": [
    {
     "name": "stdout",
     "output_type": "stream",
     "text": [
      "Index(['bedrooms', 'bathrooms', 'sqft_living', 'sqft_lot', 'floors',\n",
      "       'sqft_above'],\n",
      "      dtype='object')\n"
     ]
    }
   ],
   "source": [
    "feature_names = original_df.drop(columns=['price']).columns\n",
    "print(feature_names)"
   ]
  },
  {
   "cell_type": "code",
   "execution_count": 14,
   "id": "9606c5ce",
   "metadata": {
    "execution": {
     "iopub.execute_input": "2025-07-26T15:47:40.073146Z",
     "iopub.status.busy": "2025-07-26T15:47:40.072885Z",
     "iopub.status.idle": "2025-07-26T15:47:40.078168Z",
     "shell.execute_reply": "2025-07-26T15:47:40.077492Z"
    },
    "papermill": {
     "duration": 0.014994,
     "end_time": "2025-07-26T15:47:40.079309",
     "exception": false,
     "start_time": "2025-07-26T15:47:40.064315",
     "status": "completed"
    },
    "tags": []
   },
   "outputs": [
    {
     "name": "stdout",
     "output_type": "stream",
     "text": [
      "Normalized new data: [-1.54153575 -0.20520105 -0.14468553 -0.37910572  6.48038136  3.68034523]\n",
      "Predicted price: 827481.9390694174\n"
     ]
    }
   ],
   "source": [
    "# New data (before normalization)\n",
    "new_data = np.array([2, 2, 2000, 1250, 5, 5000])\n",
    "\n",
    "# Normalize the new data using the same max values as the training data\n",
    "new_norm = (new_data - x_mean) / std_x  # Use max values from training data for consistency\n",
    "\n",
    "print(\"Normalized new data:\", new_norm)\n",
    "\n",
    "# Now make the prediction using the normalized new data\n",
    "predicted_price = np.dot(w, new_norm) + b\n",
    "print(f\"Predicted price: {predicted_price * std_y + y_mean}\")"
   ]
  },
  {
   "cell_type": "code",
   "execution_count": 15,
   "id": "79160660",
   "metadata": {
    "execution": {
     "iopub.execute_input": "2025-07-26T15:47:40.095573Z",
     "iopub.status.busy": "2025-07-26T15:47:40.095362Z",
     "iopub.status.idle": "2025-07-26T15:47:40.099472Z",
     "shell.execute_reply": "2025-07-26T15:47:40.098916Z"
    },
    "papermill": {
     "duration": 0.013391,
     "end_time": "2025-07-26T15:47:40.100554",
     "exception": false,
     "start_time": "2025-07-26T15:47:40.087163",
     "status": "completed"
    },
    "tags": []
   },
   "outputs": [],
   "source": [
    "# regularization method\n",
    "# formula  = lambda / 2m ∑ (wj **2)\n",
    "\n",
    "def compute_cost(w, x, y, b, lamda):\n",
    "    m = len(x)\n",
    "    # formula = 1 / 2m ∑ (predicted - actual) ** 2\n",
    "    total_cost = 0\n",
    "    for i in range(m):\n",
    "        prediction = np.dot(w, x[i]) + b\n",
    "        total_cost += (prediction - y[i]) ** 2\n",
    "    total_cost = total_cost / (2 * m)\n",
    "    \n",
    "    # should be scalar output\n",
    "    reg = 0\n",
    "    for j in range(m):\n",
    "        reg += w[j] ** 2\n",
    "\n",
    "    reg = lamda / (2 * m) * reg\n",
    "\n",
    "    return totalcost + reg"
   ]
  }
 ],
 "metadata": {
  "kaggle": {
   "accelerator": "gpu",
   "dataSources": [
    {
     "datasetId": 6572246,
     "sourceId": 10615535,
     "sourceType": "datasetVersion"
    }
   ],
   "dockerImageVersionId": 30840,
   "isGpuEnabled": true,
   "isInternetEnabled": true,
   "language": "python",
   "sourceType": "notebook"
  },
  "kernelspec": {
   "display_name": "Python 3",
   "language": "python",
   "name": "python3"
  },
  "language_info": {
   "codemirror_mode": {
    "name": "ipython",
    "version": 3
   },
   "file_extension": ".py",
   "mimetype": "text/x-python",
   "name": "python",
   "nbconvert_exporter": "python",
   "pygments_lexer": "ipython3",
   "version": "3.10.12"
  },
  "papermill": {
   "default_parameters": {},
   "duration": 234.429721,
   "end_time": "2025-07-26T15:47:40.525650",
   "environment_variables": {},
   "exception": null,
   "input_path": "__notebook__.ipynb",
   "output_path": "__notebook__.ipynb",
   "parameters": {},
   "start_time": "2025-07-26T15:43:46.095929",
   "version": "2.6.0"
  }
 },
 "nbformat": 4,
 "nbformat_minor": 5
}
